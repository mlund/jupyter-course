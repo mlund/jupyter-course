{
 "cells": [
  {
   "cell_type": "code",
   "execution_count": null,
   "metadata": {},
   "outputs": [],
   "source": [
    "import numpy as np\n",
    "import pandas as pd\n",
    "import random as rd"
   ]
  },
  {
   "cell_type": "code",
   "execution_count": null,
   "metadata": {},
   "outputs": [],
   "source": [
    "r = rd.Random(81)"
   ]
  },
  {
   "cell_type": "code",
   "execution_count": null,
   "metadata": {},
   "outputs": [],
   "source": [
    "students_names = \"\"\"\n",
    "\"\"\"\n",
    "students = students_names.split('\\n')"
   ]
  },
  {
   "cell_type": "code",
   "execution_count": null,
   "metadata": {},
   "outputs": [],
   "source": [
    "students_emails = \"\"\"\n",
    "\"\"\"\n",
    "emails = students_emails.split('\\n')\n",
    "emails"
   ]
  },
  {
   "cell_type": "code",
   "execution_count": null,
   "metadata": {},
   "outputs": [],
   "source": [
    "print(len(students))\n",
    "df = pd.DataFrame(data=np.zeros((len(students),len(students))),index=students,columns=students)\n",
    "for stu1 in students:\n",
    "    while ( df[stu1].sum() != 2 ):\n",
    "        stu2 = r.choice(students)\n",
    "        if ( df.xs(stu2).sum() < 2 and df[stu1].sum() < 2 ):\n",
    "            if ( df.xs(stu2)[stu1] == 0 and df.xs(stu1)[stu2] == 0 ):\n",
    "                df.xs(stu2)[stu1] = 1"
   ]
  },
  {
   "cell_type": "code",
   "execution_count": null,
   "metadata": {},
   "outputs": [],
   "source": [
    "data = {}\n",
    "for col in df.columns:\n",
    "    data[col] = { 'project to review # 1': df[col].sort_values(ascending=False).index[0], \n",
    "                 'project to review # 2': df[col].sort_values(ascending=False).index[1] }\n",
    "dataframe = pd.DataFrame(data)\n",
    "dataframe = dataframe.T\n",
    "dataframe['email'] =  emails\n",
    "dataframe"
   ]
  },
  {
   "cell_type": "code",
   "execution_count": null,
   "metadata": {
    "scrolled": true
   },
   "outputs": [],
   "source": [
    "print(dataframe.to_html())"
   ]
  },
  {
   "cell_type": "code",
   "execution_count": null,
   "metadata": {},
   "outputs": [],
   "source": [
    "df.sum(axis=1)"
   ]
  },
  {
   "cell_type": "code",
   "execution_count": null,
   "metadata": {},
   "outputs": [],
   "source": [
    "df.sum(axis=0)"
   ]
  }
 ],
 "metadata": {
  "kernelspec": {
   "display_name": "Python 3",
   "language": "python",
   "name": "python3"
  },
  "language_info": {
   "codemirror_mode": {
    "name": "ipython",
    "version": 3
   },
   "file_extension": ".py",
   "mimetype": "text/x-python",
   "name": "python",
   "nbconvert_exporter": "python",
   "pygments_lexer": "ipython3",
   "version": "3.7.5"
  }
 },
 "nbformat": 4,
 "nbformat_minor": 2
}
