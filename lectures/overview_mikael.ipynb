{
 "cells": [
  {
   "cell_type": "markdown",
   "metadata": {
    "slideshow": {
     "slide_type": "slide"
    },
    "solution": "shown"
   },
   "source": [
    "# Introduction to Jupyter Notebook and Python Programming\n",
    "\n",
    "![](http://jupyter.org/assets/jupyterpreview.png)"
   ]
  },
  {
   "cell_type": "markdown",
   "metadata": {
    "slideshow": {
     "slide_type": "slide"
    }
   },
   "source": [
    "# Scientific Workflow\n",
    "\n",
    "<img src=\"https://camo.githubusercontent.com/4782751a54025e99f6f32adeed2ddf6e8f8db724/687474703a2f2f723464732e6861642e636f2e6e7a2f6469616772616d732f646174612d736369656e63652e706e67\" width=\"800\" />"
   ]
  },
  {
   "cell_type": "markdown",
   "metadata": {
    "slideshow": {
     "slide_type": "fragment"
    },
    "solution": "hidden"
   },
   "source": [
    "_Jupyter Notebooks encapsulates all of the above into a single, sharable document_"
   ]
  },
  {
   "cell_type": "markdown",
   "metadata": {
    "slideshow": {
     "slide_type": "slide"
    }
   },
   "source": [
    "# Examples\n",
    "\n",
    "- [Interactive notebooks: Sharing the code](http://dx.doi.org/10.1038/515151a), _Nature, 2014_\n",
    "- [Binary Black Hole Signals](http://nbviewer.jupyter.org/github/minrk/ligo-binder/blob/master/index.ipynb), _PRL_\n",
    "\n",
    "Some notebooks from Theoretical Chemistry, acting as SI for published works:\n",
    "\n",
    "- https://github.com/mlund/decaarginine\n",
    "- https://github.com/mlund/CPPM\n",
    "- https://github.com/mlund/SI-proteins_in_multivalent_electrolyte\n",
    "- https://github.com/mlund/cosan\n",
    "\n",
    "Some teaching material:\n",
    "\n",
    "- https://github.com/mlund/particletracking (image recognition; MC simulation)\n",
    "- https://github.com/mlund/chemistry-notebooks/blob/master/statistical-mechanics/statmek.ipynb (ipywidgets)"
   ]
  },
  {
   "cell_type": "markdown",
   "metadata": {
    "slideshow": {
     "slide_type": "slide"
    }
   },
   "source": [
    "# A tribute to Hans Rosling (1948-2017)\n",
    "\n",
    "## bqplot\n",
    "\n",
    "See i.e. TED-talk [here](https://www.ted.com/talks/hans_rosling_on_global_population_growth?language=en).\n",
    "\n",
    "![bqplot](https://github.com/bloomberg/bqplot/raw/0.9.0/bqplot-screencast.gif)"
   ]
  },
  {
   "cell_type": "markdown",
   "metadata": {
    "slideshow": {
     "slide_type": "slide"
    }
   },
   "source": [
    "# Starting Jupyter Notebook and Basic Navigation\n",
    "\n",
    "After installing Using _Anaconda_ (or perhaps better, _miniconda_), you can actuvate the _environment_ for the course by the following commands. The last line opens a browser with a new notebook.\n",
    "\n",
    "~~~ bash\n",
    "    conda env create -f environment.yml\n",
    "    source activate LUcompute\n",
    "    jupyter-notebook\n",
    "~~~\n",
    "\n",
    "Tips:\n",
    "\n",
    "- For a Python and Jupyter installation, use [Anaconda](https://www.anaconda.com/distribution/#download-section). You could also use [miniconda](https://docs.conda.io/en/latest/miniconda.html) for a leaner installation where you manually install the packages you need.\n",
    "- You can also run a Jupyter notebook online: https://mybinder.org\n",
    "- Another online solution: https://datalore.jetbrains.com/\n",
    "\n",
    "  _... students and staff at LU can get a free account and the service allows simultaneous editing (ala Google Docc for Jupyter Notebooks)_\n",
    "\n",
    "## Topics\n",
    "\n",
    "- Cell types (_code_, _markdown_)\n",
    "- Run cell: `shift`+`enter`\n",
    "- Run all cells; kernel; keyboard shortcuts\n",
    "- Saving; exporting; viewing online"
   ]
  },
  {
   "cell_type": "code",
   "execution_count": null,
   "metadata": {},
   "outputs": [],
   "source": [
    "%cat ../environment.yml"
   ]
  },
  {
   "cell_type": "code",
   "execution_count": null,
   "metadata": {},
   "outputs": [],
   "source": []
  },
  {
   "cell_type": "code",
   "execution_count": null,
   "metadata": {
    "slideshow": {
     "slide_type": "slide"
    }
   },
   "outputs": [],
   "source": [
    "# this is a code cell where we set the _variable_ a to 2 and pass it as an argument to the _function_ `print()`.\n",
    "a=2\n",
    "print('value =', a)"
   ]
  },
  {
   "cell_type": "markdown",
   "metadata": {
    "slideshow": {
     "slide_type": "fragment"
    }
   },
   "source": [
    "## Tasks\n",
    "\n",
    "1. Find the keyboard shortcuts for\n",
    "   - Toggling line numbers\n",
    "   - Setting the cell to _code_\n",
    "   - Setting the cell to _markdown_\n",
    "2. Export this notebook as HTML and open it in a web-browser\n",
    "3. Go back to the Home page (usually a browser tab) and check which notebooks that are currently running\n",
    "4. Figure out how to restart the kernal and see all running jobs"
   ]
  },
  {
   "cell_type": "markdown",
   "metadata": {
    "slideshow": {
     "slide_type": "slide"
    }
   },
   "source": [
    "# Help to help yourself\n",
    "\n",
    "- `shift`-`tab`-`tab`: access information about python functions (place cursor between brackets)\n",
    "- `tab`: tab complete functions and objects\n",
    "- `?command` or `command?`\n",
    "- The help menu has links to detailed help on Python, Markdown, Matplotlib etc.\n",
    "\n",
    "## Task\n",
    "\n",
    "Use the above different ways to explore the arguments for the `print()` function we used earlier.\n",
    "What does the `end` argument mean?"
   ]
  },
  {
   "cell_type": "code",
   "execution_count": null,
   "metadata": {
    "slideshow": {
     "slide_type": "-"
    }
   },
   "outputs": [],
   "source": [
    "print(233, end='a')"
   ]
  },
  {
   "cell_type": "markdown",
   "metadata": {
    "slideshow": {
     "slide_type": "slide"
    }
   },
   "source": [
    "# Output\n",
    "\n",
    "The result from running a code cell is shown as output directly below it. In particular, the output from the _last_ command will be printed, unless explicitly suppressed by a trailing `;`\n",
    "\n",
    "Previous output can be retrieved by:\n",
    "- `_` last output\n",
    "- `__` last last output\n",
    "- `_x` where `x` is the cell number."
   ]
  },
  {
   "cell_type": "code",
   "execution_count": null,
   "metadata": {
    "slideshow": {
     "slide_type": "-"
    }
   },
   "outputs": [],
   "source": [
    "a=3\n",
    "a"
   ]
  },
  {
   "cell_type": "code",
   "execution_count": null,
   "metadata": {
    "slideshow": {
     "slide_type": "-"
    }
   },
   "outputs": [],
   "source": [
    "b=7\n",
    "b;"
   ]
  },
  {
   "cell_type": "code",
   "execution_count": null,
   "metadata": {
    "slideshow": {
     "slide_type": "-"
    }
   },
   "outputs": [],
   "source": [
    "_"
   ]
  },
  {
   "cell_type": "markdown",
   "metadata": {
    "slideshow": {
     "slide_type": "slide"
    }
   },
   "source": [
    "# Built-in _Magic commands_\n",
    "\n",
    "- Line magic (`%`): operates on a single line and can be mixed with other languages\n",
    "- Cell magic (`%%`): operates on the whole cell\n",
    "- More info: http://ipython.readthedocs.io/en/stable/interactive/magics.html"
   ]
  },
  {
   "cell_type": "code",
   "execution_count": null,
   "metadata": {
    "slideshow": {
     "slide_type": "-"
    }
   },
   "outputs": [],
   "source": [
    "%lsmagic # lists available magic commands"
   ]
  },
  {
   "cell_type": "code",
   "execution_count": null,
   "metadata": {
    "code_folding": [],
    "slideshow": {
     "slide_type": "-"
    }
   },
   "outputs": [],
   "source": [
    "%%bash\n",
    "# some bash script"
   ]
  },
  {
   "cell_type": "markdown",
   "metadata": {
    "slideshow": {
     "slide_type": "slide"
    }
   },
   "source": [
    "## Task: Measuring Speed\n",
    "\n",
    "Use _line magic_ to calculate the speed of the python function below."
   ]
  },
  {
   "cell_type": "code",
   "execution_count": null,
   "metadata": {
    "code_folding": [],
    "scrolled": true,
    "slideshow": {
     "slide_type": "-"
    },
    "solution2": "hidden",
    "solution2_first": true
   },
   "outputs": [],
   "source": [
    "from math import sqrt\n",
    "def myfunction(x): # this is a _function_\n",
    "    for i in range(10):\n",
    "        x=x+sqrt(x)\n",
    "    return x\n",
    "\n",
    "print('f =', myfunction(5))"
   ]
  },
  {
   "cell_type": "code",
   "execution_count": null,
   "metadata": {
    "slideshow": {
     "slide_type": "fragment"
    },
    "solution2": "hidden"
   },
   "outputs": [],
   "source": []
  },
  {
   "cell_type": "markdown",
   "metadata": {
    "slideshow": {
     "slide_type": "slide"
    }
   },
   "source": [
    "## Directories\n",
    "\n",
    "You can change directories using the magic commands `%cd` and `%pwd`.\n",
    "\n",
    "### Task\n",
    "\n",
    "Test these two commands and explain what they do."
   ]
  },
  {
   "cell_type": "code",
   "execution_count": null,
   "metadata": {
    "slideshow": {
     "slide_type": "-"
    }
   },
   "outputs": [],
   "source": []
  },
  {
   "cell_type": "markdown",
   "metadata": {
    "slideshow": {
     "slide_type": "slide"
    }
   },
   "source": [
    "# Documentation using Markdown\n",
    "\n",
    "Markdown is a _lightweight_ markup language that\n",
    "\n",
    "- is intended to be as easy-to-read and easy-to-write as is feasible\n",
    "- should be publishable as-is, as plain text\n",
    "- supports equations ($f(x)=x$), [links](http://), ~~~text formatting~~~, tables, images etc.\n",
    "\n",
    "For more information see [here](https://github.com/adam-p/markdown-here/wiki/Markdown-Cheatsheet).\n",
    "\n",
    "## Task: Markdown language\n",
    "\n",
    "Figure out how to do the following in Markdown:\n",
    "\n",
    "1. create (sub)sections\n",
    "2. format text\n",
    "2. add links\n",
    "3. insert mathematical formulas ([link](https://www.codecogs.com/latex/eqneditor.php))\n",
    "4. show figures from an URL\n",
    "5. create a table"
   ]
  },
  {
   "cell_type": "markdown",
   "metadata": {
    "slideshow": {
     "slide_type": "slide"
    },
    "solution2": "hidden",
    "solution2_first": true
   },
   "source": [
    "## Task: Pythagoras\n",
    "\n",
    "Use a Markdown cell to explain Pythagoras theorem. Your answer should include\n",
    "\n",
    "- headers and text formatting\n",
    "- a link to an external web page\n",
    "- LaTeX math\n",
    "\n",
    "_Hint:_ images need not be local, but can be linked via a url.\n",
    "</span>"
   ]
  },
  {
   "cell_type": "markdown",
   "metadata": {
    "slideshow": {
     "slide_type": "slide"
    },
    "solution2": "shown",
    "solution2_first": true
   },
   "source": [
    "## Task: Markdown Tables\n",
    "\n",
    "1. Use a markdown cell to create a 3x1 table with column labels **Element**, **Symbol**, **Atomic number**, and a single row with Hydrogen, H, and 1."
   ]
  },
  {
   "cell_type": "markdown",
   "metadata": {
    "slideshow": {
     "slide_type": "slide"
    },
    "solution2": "hidden",
    "solution2_first": true
   },
   "source": [
    "## Task: Videos\n",
    "\n",
    "The `IPython.display` module contain many more features to insert LaTeX, images, geographical maps etc.\n",
    "Use it to insert a __youtube video__ of your choice.\n"
   ]
  },
  {
   "cell_type": "code",
   "execution_count": null,
   "metadata": {
    "scrolled": false,
    "slideshow": {
     "slide_type": "fragment"
    },
    "solution2": "hidden"
   },
   "outputs": [],
   "source": [
    "from IPython.display import YouTubeVideo # we _import_ a function from a python module\n",
    "# your answer here"
   ]
  },
  {
   "cell_type": "markdown",
   "metadata": {
    "slideshow": {
     "slide_type": "slide"
    }
   },
   "source": [
    "## Task: Embedded web content\n",
    "\n",
    "Lund University Publications ([LUP](https://lup.lub.lu.se/search)) allows you to search for publications from specific LU departments or authors. They also provide the possibility to _embed_ the search result. Use `IPython.display.IFrame` to display a search of your choice."
   ]
  },
  {
   "cell_type": "code",
   "execution_count": null,
   "metadata": {
    "scrolled": true,
    "slideshow": {
     "slide_type": "fragment"
    }
   },
   "outputs": [],
   "source": [
    "# Here's an example showing a molecule viewer - replace with something from LUP!\n",
    "from IPython.display import IFrame\n",
    "IFrame(src=\"http://3dmol.csb.pitt.edu/index.html\", width=800, height=400)"
   ]
  },
  {
   "cell_type": "code",
   "execution_count": null,
   "metadata": {},
   "outputs": [],
   "source": [
    "# We can also embed HTML code like this which can be useful to include interactive material\n",
    "from IPython.core.display import display, HTML\n",
    "display(HTML('<script src=\"http://3Dmol.csb.pitt.edu/build/3Dmol-min.js\" async></script><div style=\"height: 400px; width: 400px; position: relative;\" class=\"viewer_3Dmoljs\" data-pdb=\"2POR\" data-backgroundcolor=\"0xffffff\" data-style=\"stick\"></div>'))"
   ]
  },
  {
   "cell_type": "markdown",
   "metadata": {
    "slideshow": {
     "slide_type": "slide"
    }
   },
   "source": [
    "#### The following shows how to include an animation using Markdown:\n",
    "\n",
    "![](https://github.com/arose/nglview/raw/master/examples/images/membrane.gif)"
   ]
  },
  {
   "cell_type": "markdown",
   "metadata": {
    "slideshow": {
     "slide_type": "slide"
    }
   },
   "source": [
    "## Remarks on Markdown\n",
    "\n",
    "Markdown can be extended with:\n",
    "\n",
    "- Table of contents\n",
    "- Bibliography (bibtex)\n",
    "- Customized layouts\n",
    "\n",
    "### Suggested reading\n",
    "- [Python Data Science Handbook](https://github.com/jakevdp/PythonDataScienceHandbook)\n",
    "- [Markdown Cheatsheet](https://github.com/adam-p/markdown-here/wiki/Markdown-Cheatsheet#emphasis)\n",
    "- [Making publication ready python notebooks](http://blog.juliusschulz.de/blog/ultimate-ipython-notebook)\n",
    "- [28 Jupyter Notebook tips, tricks and shortcuts](https://www.dataquest.io/blog/jupyter-notebook-tips-tricks-shortcuts/)"
   ]
  },
  {
   "cell_type": "markdown",
   "metadata": {
    "slideshow": {
     "slide_type": "slide"
    }
   },
   "source": [
    "# Sharing Notebooks\n",
    "\n",
    "## Common export options directly from the notebook:\n",
    "\n",
    "- `.ipynb` (default format)\n",
    "- HTML (convenient and compact, single file)\n",
    "- PDF, Markdown, LaTeX etc. (may require additional packages)\n",
    "- (remember the `environment.yml` file!)"
   ]
  },
  {
   "cell_type": "markdown",
   "metadata": {
    "slideshow": {
     "slide_type": "fragment"
    }
   },
   "source": [
    "## Online options\n",
    "\n",
    "- https://github.com (notice their student package!)\n",
    "- https://nbviewer.jupyter.org (view notebooks)\n",
    "- https://tmpnb.org (online, fixed environment)\n",
    "- http://mybinder.org (online, custom environments)\n",
    "- Microsoft Azure (online coding)"
   ]
  },
  {
   "cell_type": "markdown",
   "metadata": {
    "slideshow": {
     "slide_type": "slide"
    }
   },
   "source": [
    "# Long term storage\n",
    "\n",
    "- **Zenodo** (https://zenodo.org) can make a DOI from a Github repository.\n",
    "- The repository state (every release) is archived for long term storage\n",
    "- Funded by the European Commission solution"
   ]
  },
  {
   "cell_type": "code",
   "execution_count": null,
   "metadata": {
    "hide_input": false
   },
   "outputs": [],
   "source": []
  }
 ],
 "metadata": {
  "kernelspec": {
   "display_name": "Python 3",
   "language": "python",
   "name": "python3"
  },
  "language_info": {
   "codemirror_mode": {
    "name": "ipython",
    "version": 3
   },
   "file_extension": ".py",
   "mimetype": "text/x-python",
   "name": "python",
   "nbconvert_exporter": "python",
   "pygments_lexer": "ipython3",
   "version": "3.9.2"
  },
  "toc": {
   "nav_menu": {},
   "number_sections": true,
   "sideBar": true,
   "skip_h1_title": false,
   "toc_cell": true,
   "toc_position": {},
   "toc_section_display": "block",
   "toc_window_display": false
  }
 },
 "nbformat": 4,
 "nbformat_minor": 2
}
