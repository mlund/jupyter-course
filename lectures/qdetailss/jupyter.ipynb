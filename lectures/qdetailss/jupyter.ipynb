{
 "cells": [
  {
   "cell_type": "markdown",
   "metadata": {
    "slideshow": {
     "slide_type": "slide"
    }
   },
   "source": [
    "<img src=\"https://www.dataquest.io/wp-content/uploads/2019/01/1-LPnY8nOLg4S6_TG0DEXwsg-1.png\" width=\"800\" align=\"center\"/>\n",
    "\n",
    "Giulio Tesei<br>\n",
    "QDETAILSS WS3<br>\n",
    "2019-10-24, Lund University"
   ]
  },
  {
   "cell_type": "markdown",
   "metadata": {
    "slideshow": {
     "slide_type": "slide"
    }
   },
   "source": [
    "### LAYOUT\n",
    "<br><br>\n",
    "- What is a Jupyter notebook?\n",
    "<br><br>\n",
    "- How can it improve my workflow?\n",
    "<br><br>\n",
    "- How to get started\n",
    "<br><br>\n",
    "- How to share my notebook to help other scientists to reproduce my analysis"
   ]
  },
  {
   "cell_type": "markdown",
   "metadata": {
    "slideshow": {
     "slide_type": "slide"
    }
   },
   "source": [
    "### What is it?\n",
    "Interactive document that integrates:\n",
    "- code:\n",
    "    - A long list of available programming languages:\n",
    "        - Python, Java, R, Julia, Matlab, Octave, Scala, Spark, PHP, C#, C++, etc.\n",
    "<br><br>\n",
    "- command-line tools:\n",
    "    - copying / deleting / moving files with `cp` / `rm` / `mv`\n",
    "    - navigate in the directory tree with `cd`\n",
    "    - create a new folder with `mkdir` \n",
    "<br><br>\n",
    "- narrative text:\n",
    "    - equations\n",
    "    - tables\n",
    "    - links\n",
    "<br><br>\n",
    "- visualizations"
   ]
  },
  {
   "cell_type": "markdown",
   "metadata": {
    "slideshow": {
     "slide_type": "slide"
    }
   },
   "source": [
    "### Code\n",
    "\n",
    "Documentation accessible within the notebook.\n",
    "- How can I call this function?\n",
    "- Which arguments does it have?\n",
    "- What attributes does this object have?"
   ]
  },
  {
   "cell_type": "code",
   "execution_count": 1,
   "metadata": {
    "slideshow": {
     "slide_type": "fragment"
    }
   },
   "outputs": [
    {
     "name": "stdout",
     "output_type": "stream",
     "text": [
      "<class 'list'> marie_curie <class 'str'>\n"
     ]
    }
   ],
   "source": [
    "names = ['marie_curie','amedeo_avogadro','rosalind_franklin']\n",
    "print(type(names), names[0], type(names[0]))"
   ]
  },
  {
   "cell_type": "code",
   "execution_count": 3,
   "metadata": {
    "slideshow": {
     "slide_type": "fragment"
    }
   },
   "outputs": [
    {
     "name": "stdout",
     "output_type": "stream",
     "text": [
      "first_last is  ['marie', 'curie']\n",
      "Marie CURIE\n",
      "first_last is  ['amedeo', 'avogadro']\n",
      "Amedeo AVOGADRO\n",
      "first_last is  ['rosalind', 'franklin']\n",
      "Rosalind FRANKLIN\n"
     ]
    }
   ],
   "source": [
    "for name in names:\n",
    "    first_last = name.split('_')\n",
    "    print('first_last is ',first_last)\n",
    "    first = first_last[0]\n",
    "    last = first_last[1]\n",
    "    print(first.capitalize()+' '+last.swapcase())"
   ]
  },
  {
   "cell_type": "markdown",
   "metadata": {
    "slideshow": {
     "slide_type": "slide"
    }
   },
   "source": [
    "### Command-Line Tools:\n",
    "No need to use the terminal or file managers.\n",
    "- copy / delete / move files or folders with `cp` / `rm` / `mv`\n",
    "- navigate in the directory tree with `cd`\n",
    "- create a new folder with `mkdir` \n",
    "- check the pth of the current directory with `pwd`"
   ]
  },
  {
   "cell_type": "code",
   "execution_count": 4,
   "metadata": {
    "slideshow": {
     "slide_type": "fragment"
    }
   },
   "outputs": [
    {
     "data": {
      "text/plain": [
       "'/Users/giulio/jc/qdetailss'"
      ]
     },
     "execution_count": 4,
     "metadata": {},
     "output_type": "execute_result"
    }
   ],
   "source": [
    "%pwd"
   ]
  },
  {
   "cell_type": "code",
   "execution_count": 5,
   "metadata": {
    "slideshow": {
     "slide_type": "fragment"
    }
   },
   "outputs": [
    {
     "name": "stdout",
     "output_type": "stream",
     "text": [
      "\u001b[34maux\u001b[m\u001b[m/                \u001b[34mdata\u001b[m\u001b[m/               jupyter_slides.pdf\r\n",
      "custom.css          jupyter.ipynb       \u001b[34mreveal.js\u001b[m\u001b[m/\r\n"
     ]
    }
   ],
   "source": [
    "%mkdir data\n",
    "%ls"
   ]
  },
  {
   "cell_type": "code",
   "execution_count": 6,
   "metadata": {
    "slideshow": {
     "slide_type": "fragment"
    }
   },
   "outputs": [
    {
     "name": "stdout",
     "output_type": "stream",
     "text": [
      "\u001b[34maux\u001b[m\u001b[m/                jupyter.ipynb       \u001b[34mreveal.js\u001b[m\u001b[m/\r\n",
      "custom.css          jupyter_slides.pdf\r\n"
     ]
    }
   ],
   "source": [
    "%rm -r data\n",
    "%ls"
   ]
  },
  {
   "cell_type": "markdown",
   "metadata": {
    "slideshow": {
     "slide_type": "slide"
    }
   },
   "source": [
    "### Narrative Text\n",
    "[Markdown](https://github.com/adam-p/markdown-here/wiki/Markdown-Cheatsheet) markup language:\n",
    "- equations\n",
    "- tables\n",
    "- links"
   ]
  },
  {
   "cell_type": "markdown",
   "metadata": {
    "slideshow": {
     "slide_type": "fragment"
    }
   },
   "source": [
    "```\n",
    "###### Free Induction Decay\n",
    "\n",
    "The oscillating voltage, $V(t)$, has an initial amplitude $V(0)$ which freely decays in time, $t$. The dampened signal can be modeled as a sine function of frequency $\\nu$, decaying exponentially with decay constant $T_2$:\n",
    "\n",
    "\\begin{equation}\n",
    "V(t)=V(0)\\,\\exp{(-t/T_2)}\\,\\sin{(2 \\pi \\nu t)}.\n",
    "\\end{equation}\n",
    "\n",
    "| Variable      | Description    | Unit  |\n",
    "|---------------| ---------------|-------|\n",
    "| $t$      | time | ms |\n",
    "| $V$      | voltage | V |\n",
    "| $\\nu$    | frequency | Hz |\n",
    "| $T_2$ | decay constant | ms |\n",
    "\n",
    "###### References\n",
    "1. [Wikipedia](http://tiny.cc/r9r0ez)\n",
    "2. [Merriam-Webster](http://tiny.cc/uas0ez)\n",
    "```"
   ]
  },
  {
   "cell_type": "markdown",
   "metadata": {
    "slideshow": {
     "slide_type": "slide"
    }
   },
   "source": [
    "##### Free Induction Decay\n",
    "\n",
    "The oscillating voltage, $V(t)$, has an initial amplitude $V(0)$ which freely decays in time, $t$. The dampened signal can be modeled as a sine function of frequency $\\nu$, decaying exponentially with decay constant $T_2$:\n",
    "\n",
    "\\begin{equation}\n",
    "V(t)=V(0)\\,\\exp{(-t/T_2)}\\,\\sin{(2 \\pi \\nu t)}.\n",
    "\\end{equation}\n",
    "\n",
    "| Variable      | Description    | Unit  |\n",
    "|---------------| ---------------|-------|\n",
    "| $t$      | time | ms |\n",
    "| $V$      | voltage | V |\n",
    "| $\\nu$    | frequency | Hz |\n",
    "| $T_2$ | decay constant | ms |\n",
    "\n",
    "###### References\n",
    "1. [Wikipedia](http://tiny.cc/r9r0ez)\n",
    "2. [Merriam-Webster](http://tiny.cc/uas0ez)"
   ]
  },
  {
   "cell_type": "markdown",
   "metadata": {
    "slideshow": {
     "slide_type": "slide"
    }
   },
   "source": [
    "### How can it improve my workflow?\n",
    "All the steps of your data analysis and visualization in a single document. \n",
    "- Interactive data exploration and analysis\n",
    "<br><br>\n",
    "- Immediate access to documentation: learn coding, readily use new libraries!\n",
    "<br><br>\n",
    "- Facilitates iteration: \n",
    "    - once the notebook is set up, the analysis can be repeated effortlessly with new variables / data sets\n",
    "<br><br>\n",
    "- A large set of freely available tools:\n",
    "    - Python libraries for linear algebra, fitting data, plotting, handling tabular data, image analysis, bioinformatics, spectroscopy, molecular visualization\n",
    "<br><br>\n",
    "- [Examples](https://github.com/jupyter/jupyter/wiki/A-gallery-of-interesting-Jupyter-Notebooks)"
   ]
  },
  {
   "cell_type": "markdown",
   "metadata": {
    "slideshow": {
     "slide_type": "slide"
    }
   },
   "source": [
    "<img src=\"https://upload.wikimedia.org/wikipedia/commons/1/1a/NumPy_logo.svg\" width=\"200\" align=\"left\"/>\n",
    "\n",
    "```\n",
    "<img src=\"https://upload.wikimedia.org/wikipedia/commons/1/1a/NumPy_logo.svg\" width=\"200\" align=\"left\"/>\n",
    "```"
   ]
  },
  {
   "cell_type": "code",
   "execution_count": 7,
   "metadata": {
    "slideshow": {
     "slide_type": "fragment"
    }
   },
   "outputs": [
    {
     "data": {
      "text/plain": [
       "array([0.        , 0.17453293, 0.34906585, 0.52359878, 0.6981317 ,\n",
       "       0.87266463, 1.04719755, 1.22173048, 1.3962634 , 1.57079633])"
      ]
     },
     "execution_count": 7,
     "metadata": {},
     "output_type": "execute_result"
    }
   ],
   "source": [
    "import numpy as np\n",
    "x = np.linspace(0,np.pi/2.,10)\n",
    "x"
   ]
  },
  {
   "cell_type": "code",
   "execution_count": 8,
   "metadata": {
    "slideshow": {
     "slide_type": "fragment"
    }
   },
   "outputs": [
    {
     "data": {
      "text/plain": [
       "0.7853981633974483"
      ]
     },
     "execution_count": 8,
     "metadata": {},
     "output_type": "execute_result"
    }
   ],
   "source": [
    "np.mean(x) # np.std() to compute the standard deviation"
   ]
  },
  {
   "cell_type": "code",
   "execution_count": 9,
   "metadata": {
    "slideshow": {
     "slide_type": "fragment"
    }
   },
   "outputs": [
    {
     "data": {
      "text/plain": [
       "array([1.00000000e+00, 9.84807753e-01, 9.39692621e-01, 8.66025404e-01,\n",
       "       7.66044443e-01, 6.42787610e-01, 5.00000000e-01, 3.42020143e-01,\n",
       "       1.73648178e-01, 6.12323400e-17])"
      ]
     },
     "execution_count": 9,
     "metadata": {},
     "output_type": "execute_result"
    }
   ],
   "source": [
    "y = np.cos(x) # np.sin(), np.tan(), np.log(), np.exp() etc.\n",
    "y"
   ]
  },
  {
   "cell_type": "markdown",
   "metadata": {
    "slideshow": {
     "slide_type": "slide"
    }
   },
   "source": [
    "<img src=\"https://upload.wikimedia.org/wikipedia/commons/1/1a/NumPy_logo.svg\" width=\"200\" align=\"left\"/>"
   ]
  },
  {
   "cell_type": "code",
   "execution_count": 10,
   "metadata": {
    "slideshow": {
     "slide_type": "fragment"
    }
   },
   "outputs": [
    {
     "name": "stdout",
     "output_type": "stream",
     "text": [
      "1.525000000000000000e+01 2.086592750614395442e+01 1.224484592940475874e-01\r\n"
     ]
    }
   ],
   "source": [
    "!head -n 1 aux/pmf.dat"
   ]
  },
  {
   "cell_type": "code",
   "execution_count": 11,
   "metadata": {
    "slideshow": {
     "slide_type": "fragment"
    }
   },
   "outputs": [],
   "source": [
    "# Load data file\n",
    "x,y,z = np.loadtxt('aux/pmf.dat',unpack=True)"
   ]
  },
  {
   "cell_type": "code",
   "execution_count": 12,
   "metadata": {
    "slideshow": {
     "slide_type": "fragment"
    }
   },
   "outputs": [
    {
     "data": {
      "text/plain": [
       "940.9132634027817"
      ]
     },
     "execution_count": 12,
     "metadata": {},
     "output_type": "execute_result"
    }
   ],
   "source": [
    "# Integrate along the given axis using the composite trapezoidal rule.\n",
    "np.trapz(y,x)"
   ]
  },
  {
   "cell_type": "code",
   "execution_count": 13,
   "metadata": {
    "slideshow": {
     "slide_type": "fragment"
    }
   },
   "outputs": [],
   "source": [
    "# Return the derivative of an array.\n",
    "dy = np.gradient(y,x)\n",
    "# Save the gradient to a text file\n",
    "np.savetxt('aux/gradient.dat',y)"
   ]
  },
  {
   "cell_type": "markdown",
   "metadata": {
    "slideshow": {
     "slide_type": "slide"
    }
   },
   "source": [
    "<img src=\"https://matplotlib.org/_static/logo2.svg\" width=\"300\" align=\"left\"/>"
   ]
  },
  {
   "cell_type": "code",
   "execution_count": 14,
   "metadata": {
    "slideshow": {
     "slide_type": "skip"
    }
   },
   "outputs": [],
   "source": [
    "import matplotlib.pyplot as plt\n",
    "plt.rcParams.update({'figure.dpi': 70})"
   ]
  },
  {
   "cell_type": "code",
   "execution_count": 15,
   "metadata": {
    "slideshow": {
     "slide_type": "fragment"
    }
   },
   "outputs": [
    {
     "data": {
      "image/png": "[encoded data removed]",
      "text/plain": [
       "<Figure size 432x288 with 1 Axes>"
      ]
     },
     "metadata": {
      "needs_background": "light"
     },
     "output_type": "display_data"
    }
   ],
   "source": [
    "import matplotlib.pyplot as plt\n",
    "x = np.linspace(0,10*np.pi,200)\n",
    "y = np.cos(x)\n",
    "plt.plot(x,y)\n",
    "plt.ylabel('Cosine')\n",
    "plt.xlabel('Angle  /  rad')\n",
    "plt.show()"
   ]
  },
  {
   "cell_type": "markdown",
   "metadata": {
    "slideshow": {
     "slide_type": "slide"
    }
   },
   "source": [
    "$$\n",
    "P(x) = \\frac{1}{\\sqrt{2 \\pi \\sigma}} \\exp{\\left ( \\frac{-(x-\\mu)^2}{2\\sigma^2} \\right)}\n",
    "$$"
   ]
  },
  {
   "cell_type": "code",
   "execution_count": 16,
   "metadata": {
    "slideshow": {
     "slide_type": "fragment"
    }
   },
   "outputs": [
    {
     "data": {
      "image/png": "[encoded data removed]",
      "text/plain": [
       "<Figure size 432x288 with 1 Axes>"
      ]
     },
     "metadata": {
      "needs_background": "light"
     },
     "output_type": "display_data"
    }
   ],
   "source": [
    "x = np.linspace(0,9,1000)\n",
    "for u in range(1,8):\n",
    "    y = np.exp(-(u-x)**2/(2*0.2**2)) / np.sqrt(2*np.pi*0.2**2)\n",
    "    plt.plot(x,y,label=str(u))\n",
    "plt.legend(frameon=False, title='$\\mu$ / nm')\n",
    "plt.xlim(0,9)\n",
    "plt.xlabel('Distance, $x$ / nm'); plt.ylabel('Probabilty, $P(x)$')\n",
    "plt.savefig('aux/normal.pdf') # png, jpg, eps\n",
    "plt.show()"
   ]
  },
  {
   "cell_type": "code",
   "execution_count": 17,
   "metadata": {
    "slideshow": {
     "slide_type": "skip"
    }
   },
   "outputs": [],
   "source": [
    "plt.rcParams.update({'figure.dpi': 300})"
   ]
  },
  {
   "cell_type": "code",
   "execution_count": 18,
   "metadata": {
    "slideshow": {
     "slide_type": "slide"
    }
   },
   "outputs": [
    {
     "name": "stdout",
     "output_type": "stream",
     "text": [
      "(900, 1000, 3)\n"
     ]
    },
    {
     "data": {
      "image/png": "[encoded data removed]",
      "text/plain": [
       "<Figure size 360x360 with 1 Axes>"
      ]
     },
     "metadata": {
      "needs_background": "light"
     },
     "output_type": "display_data"
    }
   ],
   "source": [
    "import matplotlib.image as mpimg\n",
    "img = mpimg.imread('aux/protein.png')\n",
    "print(img.shape)\n",
    "fig = plt.figure(figsize=(1.2, 1.2))\n",
    "plt.imshow(img, interpolation='bilinear')\n",
    "plt.axis('off')\n",
    "plt.show()"
   ]
  },
  {
   "cell_type": "code",
   "execution_count": 19,
   "metadata": {
    "slideshow": {
     "slide_type": "skip"
    }
   },
   "outputs": [],
   "source": [
    "plt.rcParams.update({'figure.dpi': 75})"
   ]
  },
  {
   "cell_type": "code",
   "execution_count": 20,
   "metadata": {
    "slideshow": {
     "slide_type": "slide"
    }
   },
   "outputs": [
    {
     "data": {
      "image/png": "[encoded data removed]",
      "text/plain": [
       "<Figure size 450x300 with 1 Axes>"
      ]
     },
     "metadata": {
      "needs_background": "light"
     },
     "output_type": "display_data"
    }
   ],
   "source": [
    "from matplotlib.collections import LineCollection\n",
    "x = np.linspace(0,10,1000)\n",
    "y = np.exp(-(2.6-x)**2) / np.sqrt(4*np.pi) + np.exp(-(7-x)**2/2) / np.sqrt(8*np.pi)\n",
    "points = np.array([x, y]).T.reshape(-1, 1, 2)\n",
    "segments = np.concatenate([points[:-1], points[1:]], axis=1)\n",
    "norm = plt.Normalize(x.min(), x.max())\n",
    "lc = LineCollection(segments, cmap='plasma', norm=norm)\n",
    "lc.set_array(x); lc.set_linewidth(4); plt.gca().add_collection(lc)\n",
    "plt.ylabel(r'Probability, $P(x)$'); plt.xlabel(r'Distance, $x$  /  nm')\n",
    "plt.xlim(0,10); plt.ylim(0,.3)\n",
    "plt.show()"
   ]
  },
  {
   "cell_type": "markdown",
   "metadata": {
    "slideshow": {
     "slide_type": "slide"
    }
   },
   "source": [
    "Q: How can I plot a gradient-colored line?\n",
    "\n",
    "A: Google [\"matplotlib gradient color line\"](https://matplotlib.org/3.1.1/gallery/lines_bars_and_markers/multicolored_line.html)\n",
    "\n",
    "You can google very specific questions and quickly find excellent answers, generally on matplolib.org or stackoverflow.com"
   ]
  },
  {
   "cell_type": "markdown",
   "metadata": {
    "slideshow": {
     "slide_type": "slide"
    }
   },
   "source": [
    "### Multiple Subplots"
   ]
  },
  {
   "cell_type": "code",
   "execution_count": 21,
   "metadata": {
    "slideshow": {
     "slide_type": "fragment"
    }
   },
   "outputs": [
    {
     "data": {
      "image/png": "[encoded data removed]",
      "text/plain": [
       "<Figure size 525x450 with 6 Axes>"
      ]
     },
     "metadata": {
      "needs_background": "light"
     },
     "output_type": "display_data"
    }
   ],
   "source": [
    "fig, axes = plt.subplots(nrows=3,ncols=2,figsize=(7, 6))\n",
    "x = np.arange(10)\n",
    "axes[0,0].plot(x, x**2, 'bo')\n",
    "axes[2,1].plot(x, -x**2, 'r^')\n",
    "axes[2,1].yaxis.set_ticks_position('right') # yticks on the right side"
   ]
  },
  {
   "cell_type": "code",
   "execution_count": 22,
   "metadata": {
    "slideshow": {
     "slide_type": "skip"
    }
   },
   "outputs": [],
   "source": [
    "def plotQCM():    \n",
    "    fig, ((ax1,ax2),(ax3,ax4)) = plt.subplots(nrows=2,ncols=2)\n",
    "\n",
    "    colors = plt.rcParams['axes.prop_cycle'].by_key()['color']\n",
    "\n",
    "    ax1 = plt.subplot2grid((11, 5), (5, 0), rowspan=6, colspan=3)\n",
    "    ax3 = plt.subplot2grid((11, 5), (0, 0), rowspan=5, colspan=3)\n",
    "    ax2 = plt.subplot2grid((11, 5), (5, 3), rowspan=6, colspan=2)\n",
    "    ax4 = plt.subplot2grid((11, 5), (0, 3), rowspan=5, colspan=2)\n",
    "\n",
    "    a = np.linspace(0,np.pi,100)\n",
    "\n",
    "    for ax in [ax2,ax4]:\n",
    "        for i,c in zip(range(1,13,2),colors):\n",
    "            ax.plot(np.cos(a*i)+i*2,a,lw=2,color=c)\n",
    "            ax.plot(-np.cos(a*i)+i*2,a,lw=2,ls=':',color=c)\n",
    "\n",
    "        ax.set_xticks(np.arange(1,13,2)*2)\n",
    "        ax.set_xticklabels(np.arange(1,13,2))\n",
    "        ax.tick_params(axis='both',which='both',bottom=False,right=False,labelbottom=True,labelright=False,\n",
    "                        left=False,labelleft=False,pad=-.5)\n",
    "        ax.set_frame_on(False)\n",
    "\n",
    "    ax2.set_ylim(0-0.06/1.3*np.pi,np.pi+0.06/1.3*np.pi)\n",
    "    ax4.set_ylim(0-0.06*np.pi,np.pi+0.06*np.pi)\n",
    "\n",
    "    x0 = 2; y0 = 0; x1 = 1.7;\n",
    "\n",
    "    c=7\n",
    "\n",
    "    ax1.fill([x1,x1+2,x1+2.6,x1+.6], [y0,y0,y0+1,y0+1], colors[c], alpha=0.3, \n",
    "             edgecolor=colors[c],ls='--',lw=0)\n",
    "    ax1.fill([x1+.6,x1+2.6,x1+2.6,x1+.6], [y0+1,y0+1,y0+1.3,y0+1.3], colors[c], alpha=0.6, \n",
    "             edgecolor=colors[c],ls='--',lw=0)\n",
    "\n",
    "    ax1.fill([x0,x0+2,x0+2,x0], [y0+1,y0+1,y0+1.3,y0+1.3], colors[9], alpha=0.6, edgecolor=colors[9],ls='-',lw=0)\n",
    "    ax1.fill([x0,x0+2,x0+2,x0], [y0,y0,y0+1,y0+1], colors[9], alpha=0.3, edgecolor=colors[9],ls='-',lw=0)\n",
    "\n",
    "    ax3.fill([x1,x1+2,x1+2.6,x1+.6], [y0,y0,y0+1,y0+1], colors[c], alpha=0.3, \n",
    "             edgecolor=colors[c],ls='--',lw=0)\n",
    "    ax3.fill([x0,x0+2,x0+2,x0], [y0,y0,y0+1,y0+1], colors[9], alpha=0.3, edgecolor=colors[9],ls='-',lw=0)\n",
    "\n",
    "    for ax in [ax1,ax3]:    \n",
    "        ax.axis('off')\n",
    "        ax.plot([2.3,2.3],[0,1],marker='o',lw=0,color='k')\n",
    "        ax.hlines(y=[0,1],xmin=[.9925,.9925],xmax=[2.3,2.3],lw=1,color='k')\n",
    "        ax.annotate(r'$\\bigcirc$',xy=(1,0.5),fontsize=24,color='k',horizontalalignment='center',\n",
    "                    verticalalignment='center')\n",
    "        ax.annotate(u'\\u223F',xy=(1,0.5),fontsize=16,color='k',horizontalalignment='center',\n",
    "                    verticalalignment='center')\n",
    "        ax.vlines(x=[1,1],ymin=[0,0.61],ymax=[.4,1],lw=1,color='k')\n",
    "\n",
    "    ax1.set_xlim(.7,4.5)\n",
    "    ax3.set_xlim(.7,4.5)\n",
    "    ax3.set_ylim(-.05,1.05)\n",
    "    ax1.set_ylim(-.05,1.35)\n",
    "\n",
    "    ax3.annotate('QCR', xy=(3,0.5),fontsize=14,color='k',horizontalalignment='center', verticalalignment='center')\n",
    "    ax1.annotate('QCR', xy=(3,0.5),fontsize=14,color='k',horizontalalignment='center', verticalalignment='center')\n",
    "    ax1.annotate('Film', xy=(3,1.15),fontsize=14,color='k',horizontalalignment='center', verticalalignment='center')\n",
    "\n",
    "    plt.gcf().text(.6, 0.58, '$n$  = ', fontsize=12)\n",
    "    plt.gcf().text(.6, 0.058, '$n$  = ', fontsize=12)\n",
    "\n",
    "    plt.tight_layout(w_pad=2.5,h_pad=1)\n",
    "    plt.show()"
   ]
  },
  {
   "cell_type": "code",
   "execution_count": 23,
   "metadata": {
    "slideshow": {
     "slide_type": "skip"
    }
   },
   "outputs": [],
   "source": [
    "def plotFourier():    \n",
    "    fig, (ax1,ax2) = plt.subplots(nrows=1,ncols=2,figsize=(7, 3.5))\n",
    "    \n",
    "    colors = plt.rcParams['axes.prop_cycle'].by_key()['color']\n",
    "\n",
    "    gamma = 2e-1\n",
    "    fr = 5\n",
    "    t = np.arange(0,10,.001)\n",
    "    cos = np.cos(2*np.pi*fr*t)\n",
    "    exp = np.exp(-t*2*np.pi*gamma)\n",
    "    func = exp*cos\n",
    "    ax1.plot(t,func,color=colors[0])\n",
    "    ax1.set_xlim(0,4)\n",
    "\n",
    "    fs = np.linspace(0,10,1000)\n",
    "    curr = []\n",
    "    for f in fs:\n",
    "        curr.append( np.trapz( func*np.cos(2*np.pi*f*t),t) )\n",
    "    curr = np.array(curr)\n",
    "    ax2.plot(fs,curr,lw=2,color=colors[0]) \n",
    "    ax2.yaxis.set_label_position('right'); ax2.yaxis.set_ticks_position('right')\n",
    "    ax2.set_xlim(0,7)\n",
    "    ax2.set_ylim(-.05,.55)\n",
    "\n",
    "    ax1.hlines(y=-np.exp(-1),xmin=0,xmax=1/(2*np.pi*gamma))\n",
    "    ax1.hlines(y=.7,xmin=4/5,xmax=1)\n",
    "    ax1.hlines(y=.7,xmin=1,xmax=1.5,lw=1,linestyle=':')\n",
    "    ax1.vlines(x=4/5,ymin=np.exp(-4/5*2*np.pi*gamma),ymax=.7,lw=1,linestyle=':')\n",
    "    ax1.vlines(x=1,ymin=np.exp(-2*np.pi*gamma),ymax=.7,lw=1,linestyle=':')\n",
    "    ax1.vlines(x=1/(2*np.pi*gamma)-.01,ymin=-np.exp(-1),ymax=-.6,lw=1,linestyle=':')\n",
    "    ax1.annotate('1 / ( 2 $\\pi$ $\\Gamma_r$ )',xy=(.67,-.8),fontsize=16)\n",
    "    ax2.hlines(y=curr.max()/2.,xmin=5,xmax=5+gamma)\n",
    "    ax2.hlines(y=curr.max()/2.,xmin=5,xmax=5+gamma+.7,lw=1,linestyle=':')\n",
    "    ax2.vlines(x=fr,ymin=curr.max()/2.,ymax=curr.max()+.05,lw=1,linestyle=':')\n",
    "    ax2.annotate('$\\Gamma_r$',xy=(6,.185),fontsize=16)\n",
    "    ax2.annotate(\"$f_r$\",xy=(fr-.2,curr.max()+.07),fontsize=16)\n",
    "    ax1.annotate('1 / $f_r$',xy=(1.6,.65),fontsize=16)\n",
    "    ax1.text(x=4.16,y=.1,s='FT',fontsize=16)\n",
    "    ax1.text(x=4.13,y=-.05,s='⟶',fontsize=16)\n",
    "\n",
    "    gamma = 4e-1\n",
    "    fr = 2\n",
    "    t = np.arange(0,10,.001)\n",
    "    cos = np.cos(2*np.pi*fr*t)\n",
    "    exp = np.exp(-t*2*np.pi*gamma)\n",
    "    func = exp*cos\n",
    "    ax1.plot(t,func,color=colors[3],lw=1)\n",
    "\n",
    "    fs = np.linspace(0,10,1000)\n",
    "    curr = []\n",
    "    for f in fs:\n",
    "        curr.append( np.trapz( func*np.cos(2*np.pi*f*t),t) )\n",
    "    curr = np.array(curr)\n",
    "    ax2.plot(fs,curr,lw=1,color=colors[3]) \n",
    "    ax2.yaxis.set_label_position('right'); ax2.yaxis.set_ticks_position('right')\n",
    "\n",
    "    ax2.hlines(y=curr.max()/2.,xmin=fr,xmax=fr+gamma)\n",
    "    ax2.hlines(y=curr.max()/2.,xmin=fr,xmax=fr+gamma+.7,lw=1,linestyle=':')\n",
    "    ax2.vlines(x=fr,ymin=curr.max()/2.,ymax=curr.max()+.05,lw=1,linestyle=':')\n",
    "    ax2.annotate(\"$\\Gamma$\",xy=(3.2,.08),fontsize=16)\n",
    "    ax2.annotate(\"$f$\",xy=(fr-.2,curr.max()+.07),fontsize=16)\n",
    "    ax1.tick_params(axis='both',which='both',left=False,bottom=False,labelbottom=False,labelleft=False)\n",
    "    ax2.tick_params(axis='both',which='both',bottom=False,right=False,labelbottom=False,labelright=False)\n",
    "    ax1.set_xlabel('Time',labelpad=6)\n",
    "    ax2.set_xlabel('Frequency',labelpad=6)\n",
    "    ax1.set_ylabel('Current,  $I(t)$',labelpad=6)\n",
    "    ax2.set_ylabel('Current,  $I(t)$',labelpad=8)\n",
    "\n",
    "    fig.tight_layout(w_pad=3)\n",
    "    plt.show()"
   ]
  },
  {
   "cell_type": "code",
   "execution_count": 24,
   "metadata": {
    "slideshow": {
     "slide_type": "skip"
    }
   },
   "outputs": [],
   "source": [
    "plt.rcParams.update({'figure.dpi': 60})"
   ]
  },
  {
   "cell_type": "code",
   "execution_count": 25,
   "metadata": {
    "slideshow": {
     "slide_type": "slide"
    }
   },
   "outputs": [
    {
     "data": {
      "image/png": "[encoded data removed]",
      "text/plain": [
       "<Figure size 360x240 with 4 Axes>"
      ]
     },
     "metadata": {
      "needs_background": "light"
     },
     "output_type": "display_data"
    },
    {
     "data": {
      "image/png": "[encoded data removed]",
      "text/plain": [
       "<Figure size 420x210 with 2 Axes>"
      ]
     },
     "metadata": {},
     "output_type": "display_data"
    }
   ],
   "source": [
    "plotQCM()\n",
    "plotFourier()"
   ]
  },
  {
   "cell_type": "markdown",
   "metadata": {
    "slideshow": {
     "slide_type": "slide"
    }
   },
   "source": [
    "### [Jupyter Widgets](https://ipywidgets.readthedocs.io/en/latest/)\n",
    "Gain control and visualize changes in the data!"
   ]
  },
  {
   "cell_type": "code",
   "execution_count": 26,
   "metadata": {
    "slideshow": {
     "slide_type": "skip"
    }
   },
   "outputs": [],
   "source": [
    "from mpl_toolkits.axes_grid1.inset_locator import inset_axes\n",
    "from ipywidgets import interactive\n",
    "\n",
    "def plot_cos_decay_FT(freq=1,gamma=.2):\n",
    "\n",
    "    def cos_decay(time,freq,gamma):\n",
    "        cos = np.cos(2*np.pi*freq*time)\n",
    "        exp = np.exp(-time*2*np.pi*gamma)\n",
    "        return exp*cos\n",
    "    \n",
    "    def FT(time,freq,gamma):\n",
    "        fourier = []\n",
    "        for f in np.linspace(0,freq*2,1000):\n",
    "            cos = np.cos(2*np.pi*f*time)\n",
    "            fourier.append( np.trapz( cos_decay(time,freq,gamma)*cos,time) )\n",
    "        return np.array(fourier)\n",
    "\n",
    "    time = np.arange(0,10,.001)\n",
    "\n",
    "    fig = plt.figure(figsize=(3.5,4))\n",
    "    ax = plt.axes()\n",
    "    ax.plot(time,cos_decay(time,freq,gamma),color=plt.get_cmap('tab10')(3), lw=1)\n",
    "    \n",
    "    axins = inset_axes(ax, width='60%', height='30%', loc='upper right', borderpad=1.1)\n",
    "    axins.plot(np.linspace(0,freq*2,1000),FT(time,freq,gamma),color=plt.get_cmap('tab10')(0), lw=1)\n",
    "    \n",
    "    axins.set_xlabel(r'Frequency, $f$',color=plt.get_cmap('tab10')(0),fontsize=10,labelpad=1)\n",
    "    axins.set_ylabel(r'$I(f)$',fontsize=10,labelpad=1)\n",
    "    \n",
    "    ax.set_ylabel('$I(t)$',fontsize=12)\n",
    "    ax.set_xlabel(r'Time, $t$',color=plt.get_cmap('tab10')(3),fontsize=12)\n",
    "    ax.set_xlim(0,10)"
   ]
  },
  {
   "cell_type": "code",
   "execution_count": 27,
   "metadata": {
    "slideshow": {
     "slide_type": "fragment"
    }
   },
   "outputs": [
    {
     "data": {
      "application/vnd.jupyter.widget-view+json": {
       "model_id": "1a8a559e2f4a4abab9438d04f41e5a6f",
       "version_major": 2,
       "version_minor": 0
      },
      "text/plain": [
       "interactive(children=(FloatSlider(value=1.0, description='$f$', max=5.0, min=1.0), FloatSlider(value=0.14, des…"
      ]
     },
     "metadata": {},
     "output_type": "display_data"
    }
   ],
   "source": [
    "interactive_plot = interactive(plot_cos_decay_FT, freq=(1, 5, .1), gamma=(.08,.14,.01) )\n",
    "interactive_plot.children[0].description=r'$f$' # slide bar\n",
    "interactive_plot.children[1].description=r'$\\Gamma$' # slide bar\n",
    "interactive_plot"
   ]
  },
  {
   "cell_type": "markdown",
   "metadata": {
    "slideshow": {
     "slide_type": "slide"
    }
   },
   "source": [
    "<img src=\"https://pandas.pydata.org/_static/pandas_logo.png\" width=\"500\" align=\"left\"/>"
   ]
  },
  {
   "cell_type": "code",
   "execution_count": 28,
   "metadata": {
    "slideshow": {
     "slide_type": "fragment"
    }
   },
   "outputs": [],
   "source": [
    "import pandas as pd\n",
    "from IPython.display import display"
   ]
  },
  {
   "cell_type": "markdown",
   "metadata": {
    "slideshow": {
     "slide_type": "fragment"
    }
   },
   "source": [
    "Library to handle tabular data: a convenient alternative to Excel!"
   ]
  },
  {
   "cell_type": "markdown",
   "metadata": {
    "slideshow": {
     "slide_type": "slide"
    }
   },
   "source": [
    "### Size-Exclusion Chromatography\n",
    "Data from the purification of $\\alpha$-synuclein monomers kindly provided by **Veronica Lattanzi**\n",
    "    \n",
    "<img src=\"aux/chromatogram.png\" width=\"500\" align=\"left\"/>"
   ]
  },
  {
   "cell_type": "code",
   "execution_count": 29,
   "metadata": {
    "slideshow": {
     "slide_type": "slide"
    }
   },
   "outputs": [
    {
     "name": "stdout",
     "output_type": "stream",
     "text": [
      "Run Name,20191023 dasyn NIST\r\n",
      "Run Date,12:10:53 PM   10-23-19\r\n",
      "Method Name,Increase_pumpA\r\n",
      "Export Format Version, 1.00\r\n",
      "Method ID, 2059\r\n",
      "Points/Second, 5.00\r\n",
      "Number of Records,  11780\r\n",
      "Offset from Run Start Time,00:00:00\r\n",
      "Run End Time,00:39:17\r\n",
      "Time,Second\r\n",
      "UV,AU,\r\n",
      "Conductivity,mS/cm\r\n",
      "Gradient Pump,<Not Selected>\r\n",
      "Trace 3,<Not Available>\r\n",
      "Trace 4,<Not Available>\r\n",
      "Trace 5,<Not Available>\r\n",
      "Trace 6,<Not Available>\r\n",
      "GP Pressure,<Not Selected>\r\n",
      "Volume,ml\r\n",
      "Fraction,<Not Available>\r\n",
      "Time,UV,Conductivity,Volume\r\n",
      "     0.0,-0.000730,   1.040,     0.0\r\n"
     ]
    }
   ],
   "source": [
    "%%bash\n",
    "head -n 22 aux/191923_d_alphasyn.txt"
   ]
  },
  {
   "cell_type": "code",
   "execution_count": 30,
   "metadata": {
    "slideshow": {
     "slide_type": "slide"
    }
   },
   "outputs": [
    {
     "data": {
      "text/html": [
       "<div>\n",
       "<style scoped>\n",
       "    .dataframe tbody tr th:only-of-type {\n",
       "        vertical-align: middle;\n",
       "    }\n",
       "\n",
       "    .dataframe tbody tr th {\n",
       "        vertical-align: top;\n",
       "    }\n",
       "\n",
       "    .dataframe thead th {\n",
       "        text-align: right;\n",
       "    }\n",
       "</style>\n",
       "<table border=\"1\" class=\"dataframe\">\n",
       "  <thead>\n",
       "    <tr style=\"text-align: right;\">\n",
       "      <th></th>\n",
       "      <th>UV</th>\n",
       "      <th>Conductivity</th>\n",
       "      <th>Volume</th>\n",
       "    </tr>\n",
       "    <tr>\n",
       "      <th>Time</th>\n",
       "      <th></th>\n",
       "      <th></th>\n",
       "      <th></th>\n",
       "    </tr>\n",
       "  </thead>\n",
       "  <tbody>\n",
       "    <tr>\n",
       "      <td>0.0</td>\n",
       "      <td>-0.000730</td>\n",
       "      <td>1.04</td>\n",
       "      <td>0.0</td>\n",
       "    </tr>\n",
       "    <tr>\n",
       "      <td>0.2</td>\n",
       "      <td>-0.000724</td>\n",
       "      <td>1.04</td>\n",
       "      <td>0.0</td>\n",
       "    </tr>\n",
       "  </tbody>\n",
       "</table>\n",
       "</div>"
      ],
      "text/plain": [
       "            UV  Conductivity  Volume\n",
       "Time                                \n",
       "0.0  -0.000730          1.04     0.0\n",
       "0.2  -0.000724          1.04     0.0"
      ]
     },
     "metadata": {},
     "output_type": "display_data"
    }
   ],
   "source": [
    "df = pd.read_csv('aux/191923_d_alphasyn.txt',header=20,sep=',',index_col=0)\n",
    "display(df.head(2))"
   ]
  },
  {
   "cell_type": "code",
   "execution_count": 31,
   "metadata": {
    "scrolled": true,
    "slideshow": {
     "slide_type": "fragment"
    }
   },
   "outputs": [
    {
     "data": {
      "text/plain": [
       "Text(0.5, 0, 'Time  /  min')"
      ]
     },
     "execution_count": 31,
     "metadata": {},
     "output_type": "execute_result"
    },
    {
     "data": {
      "image/png": "[encoded data removed]",
      "text/plain": [
       "<Figure size 360x150 with 1 Axes>"
      ]
     },
     "metadata": {
      "needs_background": "light"
     },
     "output_type": "display_data"
    }
   ],
   "source": [
    "fig = plt.figure(figsize=(6, 2.5))\n",
    "plt.plot(df.index/60, df['UV'])\n",
    "plt.ylabel('Absorbance at 276 nm'); plt.xlabel('Time  /  min')"
   ]
  },
  {
   "cell_type": "code",
   "execution_count": 32,
   "metadata": {
    "slideshow": {
     "slide_type": "slide"
    }
   },
   "outputs": [
    {
     "data": {
      "image/png": "[encoded data removed]",
      "text/plain": [
       "<Figure size 360x240 with 2 Axes>"
      ]
     },
     "metadata": {
      "needs_background": "light"
     },
     "output_type": "display_data"
    }
   ],
   "source": [
    "fig = plt.figure(); ax1 = plt.axes()\n",
    "ax1.plot(df.index/60, df['UV'])\n",
    "ax2 = ax1.twinx() # creates a new subplot identical to x1, with invisible x-axis and y-axis on the r.h.s\n",
    "ax2.plot(df.index/60, df['Conductivity'],color=plt.cm.tab10(3))\n",
    "ax1.tick_params(axis='y',colors=plt.cm.tab10(0))\n",
    "ax1.set_xlabel('Time  /  min')\n",
    "ax1.set_ylabel('Absorbance at 276 nm',color=plt.cm.tab10(0))\n",
    "ax2.set_ylabel('Conductivity  /  mS cm$^{-1}$',color=plt.cm.tab10(3))\n",
    "ax2.tick_params(axis='y',colors=plt.cm.tab10(3))\n",
    "plt.savefig('aux/chromatogram.png')"
   ]
  },
  {
   "cell_type": "code",
   "execution_count": 33,
   "metadata": {
    "slideshow": {
     "slide_type": "slide"
    }
   },
   "outputs": [
    {
     "data": {
      "image/png": "[encoded data removed]",
      "text/plain": [
       "<Figure size 360x150 with 1 Axes>"
      ]
     },
     "metadata": {
      "needs_background": "light"
     },
     "output_type": "display_data"
    },
    {
     "name": "stdout",
     "output_type": "stream",
     "text": [
      "Monomer concentration: 42.796 μM\n"
     ]
    }
   ],
   "source": [
    "fig = plt.figure(figsize=(6, 2.5))\n",
    "\n",
    "plt.plot(df.index/60, df['UV'])\n",
    "plt.xlim(17,27)\n",
    "t1 = 19.8; t2 = 23.5\n",
    "plt.vlines([t1,t2],ymin=0,ymax=.25,linestyle=':')\n",
    "\n",
    "plt.ylabel('Absorbance at 276 nm'); plt.xlabel('Time  /  min'); plt.show()\n",
    "\n",
    "t1 = 19.8*60; t2 = 23.5*60 # convertion to seconds\n",
    "abs_avg = np.mean(df.loc[t1:t2]['UV']); epsilon = 5960 ;path_length = 0.5\n",
    "print('Monomer concentration:','{:.3f} μM'.format(abs_avg/epsilon/path_length*1e6))"
   ]
  },
  {
   "cell_type": "markdown",
   "metadata": {
    "slideshow": {
     "slide_type": "slide"
    }
   },
   "source": [
    "### Data Scraping: Importing an HTML Table from [Sigma Aldrich](https://www.sigmaaldrich.com/life-science/metabolomics/learning-center/amino-acid-reference-chart.html)"
   ]
  },
  {
   "cell_type": "code",
   "execution_count": 39,
   "metadata": {
    "slideshow": {
     "slide_type": "fragment"
    }
   },
   "outputs": [
    {
     "data": {
      "text/html": [
       "<div>\n",
       "<style scoped>\n",
       "    .dataframe tbody tr th:only-of-type {\n",
       "        vertical-align: middle;\n",
       "    }\n",
       "\n",
       "    .dataframe tbody tr th {\n",
       "        vertical-align: top;\n",
       "    }\n",
       "\n",
       "    .dataframe thead th {\n",
       "        text-align: right;\n",
       "    }\n",
       "</style>\n",
       "<table border=\"1\" class=\"dataframe\">\n",
       "  <thead>\n",
       "    <tr style=\"text-align: right;\">\n",
       "      <th></th>\n",
       "      <th>Abbr.</th>\n",
       "      <th>Abbr..1</th>\n",
       "      <th>Molecular  Weight</th>\n",
       "      <th>Molecular  Formula</th>\n",
       "      <th>Residue  Formula</th>\n",
       "      <th>Residue Weight  (-H2O)</th>\n",
       "      <th>pKa1</th>\n",
       "      <th>pKb2</th>\n",
       "      <th>pKx3</th>\n",
       "      <th>pl4</th>\n",
       "    </tr>\n",
       "    <tr>\n",
       "      <th>Name</th>\n",
       "      <th></th>\n",
       "      <th></th>\n",
       "      <th></th>\n",
       "      <th></th>\n",
       "      <th></th>\n",
       "      <th></th>\n",
       "      <th></th>\n",
       "      <th></th>\n",
       "      <th></th>\n",
       "      <th></th>\n",
       "    </tr>\n",
       "  </thead>\n",
       "  <tbody>\n",
       "    <tr>\n",
       "      <td>Alanine</td>\n",
       "      <td>Ala</td>\n",
       "      <td>A</td>\n",
       "      <td>89.10</td>\n",
       "      <td>C3H7NO2</td>\n",
       "      <td>C3H5NO</td>\n",
       "      <td>71.08</td>\n",
       "      <td>2.34</td>\n",
       "      <td>9.69</td>\n",
       "      <td>NaN</td>\n",
       "      <td>6.00</td>\n",
       "    </tr>\n",
       "    <tr>\n",
       "      <td>Aspartic acid</td>\n",
       "      <td>Asp</td>\n",
       "      <td>D</td>\n",
       "      <td>133.11</td>\n",
       "      <td>C4H7NO4</td>\n",
       "      <td>C4H5NO3</td>\n",
       "      <td>115.09</td>\n",
       "      <td>1.88</td>\n",
       "      <td>9.60</td>\n",
       "      <td>3.65</td>\n",
       "      <td>2.77</td>\n",
       "    </tr>\n",
       "    <tr>\n",
       "      <td>Glutamine</td>\n",
       "      <td>Gln</td>\n",
       "      <td>Q</td>\n",
       "      <td>146.15</td>\n",
       "      <td>C5H10N2O3</td>\n",
       "      <td>C5H8N2O2</td>\n",
       "      <td>128.13</td>\n",
       "      <td>2.17</td>\n",
       "      <td>9.13</td>\n",
       "      <td>NaN</td>\n",
       "      <td>5.65</td>\n",
       "    </tr>\n",
       "    <tr>\n",
       "      <td>Hydroxyproline</td>\n",
       "      <td>Hyp</td>\n",
       "      <td>O</td>\n",
       "      <td>131.13</td>\n",
       "      <td>C5H9NO3</td>\n",
       "      <td>C5H7NO2</td>\n",
       "      <td>113.11</td>\n",
       "      <td>1.82</td>\n",
       "      <td>9.65</td>\n",
       "      <td>NaN</td>\n",
       "      <td>NaN</td>\n",
       "    </tr>\n",
       "    <tr>\n",
       "      <td>Lysine</td>\n",
       "      <td>Lys</td>\n",
       "      <td>K</td>\n",
       "      <td>146.19</td>\n",
       "      <td>C6H14N2O2</td>\n",
       "      <td>C6H12N2O</td>\n",
       "      <td>128.18</td>\n",
       "      <td>2.18</td>\n",
       "      <td>8.95</td>\n",
       "      <td>10.53</td>\n",
       "      <td>9.74</td>\n",
       "    </tr>\n",
       "    <tr>\n",
       "      <td>Proline</td>\n",
       "      <td>Pro</td>\n",
       "      <td>P</td>\n",
       "      <td>115.13</td>\n",
       "      <td>C5H9NO2</td>\n",
       "      <td>C5H7NO</td>\n",
       "      <td>97.12</td>\n",
       "      <td>1.99</td>\n",
       "      <td>10.60</td>\n",
       "      <td>NaN</td>\n",
       "      <td>6.30</td>\n",
       "    </tr>\n",
       "    <tr>\n",
       "      <td>Threonine</td>\n",
       "      <td>Thr</td>\n",
       "      <td>T</td>\n",
       "      <td>119.12</td>\n",
       "      <td>C4H9NO3</td>\n",
       "      <td>C4H7NO2</td>\n",
       "      <td>101.11</td>\n",
       "      <td>2.09</td>\n",
       "      <td>9.10</td>\n",
       "      <td>NaN</td>\n",
       "      <td>5.60</td>\n",
       "    </tr>\n",
       "    <tr>\n",
       "      <td>Valine</td>\n",
       "      <td>Val</td>\n",
       "      <td>V</td>\n",
       "      <td>117.15</td>\n",
       "      <td>C5H11NO2</td>\n",
       "      <td>C5H9NO</td>\n",
       "      <td>99.13</td>\n",
       "      <td>2.32</td>\n",
       "      <td>9.62</td>\n",
       "      <td>NaN</td>\n",
       "      <td>5.96</td>\n",
       "    </tr>\n",
       "  </tbody>\n",
       "</table>\n",
       "</div>"
      ],
      "text/plain": [
       "               Abbr. Abbr..1  Molecular  Weight Molecular  Formula  \\\n",
       "Name                                                                 \n",
       "Alanine          Ala       A              89.10            C3H7NO2   \n",
       "Aspartic acid    Asp       D             133.11            C4H7NO4   \n",
       "Glutamine        Gln       Q             146.15          C5H10N2O3   \n",
       "Hydroxyproline   Hyp       O             131.13            C5H9NO3   \n",
       "Lysine           Lys       K             146.19          C6H14N2O2   \n",
       "Proline          Pro       P             115.13            C5H9NO2   \n",
       "Threonine        Thr       T             119.12            C4H9NO3   \n",
       "Valine           Val       V             117.15           C5H11NO2   \n",
       "\n",
       "               Residue  Formula  Residue Weight  (-H2O)  pKa1   pKb2   pKx3  \\\n",
       "Name                                                                          \n",
       "Alanine                  C3H5NO                   71.08  2.34   9.69    NaN   \n",
       "Aspartic acid           C4H5NO3                  115.09  1.88   9.60   3.65   \n",
       "Glutamine              C5H8N2O2                  128.13  2.17   9.13    NaN   \n",
       "Hydroxyproline          C5H7NO2                  113.11  1.82   9.65    NaN   \n",
       "Lysine                 C6H12N2O                  128.18  2.18   8.95  10.53   \n",
       "Proline                  C5H7NO                   97.12  1.99  10.60    NaN   \n",
       "Threonine               C4H7NO2                  101.11  2.09   9.10    NaN   \n",
       "Valine                   C5H9NO                   99.13  2.32   9.62    NaN   \n",
       "\n",
       "                 pl4  \n",
       "Name                  \n",
       "Alanine         6.00  \n",
       "Aspartic acid   2.77  \n",
       "Glutamine       5.65  \n",
       "Hydroxyproline   NaN  \n",
       "Lysine          9.74  \n",
       "Proline         6.30  \n",
       "Threonine       5.60  \n",
       "Valine          5.96  "
      ]
     },
     "metadata": {},
     "output_type": "display_data"
    }
   ],
   "source": [
    "url = \"https://www.sigmaaldrich.com/life-science/metabolomics/learning-center/amino-acid-reference-chart.html\"\n",
    "df = pd.read_html(url, header=0, index_col=0, na_values='–')[0]\n",
    "df = df['Alanine':'Valine'] # select rows we are interested in\n",
    "df = df.apply(pd.to_numeric,errors='ignore') # convert numbers from strings to numeric values\n",
    "display( df.iloc[::3] ) # show every third amino acid"
   ]
  },
  {
   "cell_type": "code",
   "execution_count": 40,
   "metadata": {
    "slideshow": {
     "slide_type": "slide"
    }
   },
   "outputs": [
    {
     "data": {
      "text/html": [
       "<div>\n",
       "<style scoped>\n",
       "    .dataframe tbody tr th:only-of-type {\n",
       "        vertical-align: middle;\n",
       "    }\n",
       "\n",
       "    .dataframe tbody tr th {\n",
       "        vertical-align: top;\n",
       "    }\n",
       "\n",
       "    .dataframe thead th {\n",
       "        text-align: right;\n",
       "    }\n",
       "</style>\n",
       "<table border=\"1\" class=\"dataframe\">\n",
       "  <thead>\n",
       "    <tr style=\"text-align: right;\">\n",
       "      <th></th>\n",
       "      <th>pKa1</th>\n",
       "      <th>pKb2</th>\n",
       "      <th>pKx3</th>\n",
       "    </tr>\n",
       "    <tr>\n",
       "      <th>Name</th>\n",
       "      <th></th>\n",
       "      <th></th>\n",
       "      <th></th>\n",
       "    </tr>\n",
       "  </thead>\n",
       "  <tbody>\n",
       "    <tr>\n",
       "      <td>Arginine</td>\n",
       "      <td>2.17</td>\n",
       "      <td>9.04</td>\n",
       "      <td>12.48</td>\n",
       "    </tr>\n",
       "    <tr>\n",
       "      <td>Asparagine</td>\n",
       "      <td>2.02</td>\n",
       "      <td>8.80</td>\n",
       "      <td>NaN</td>\n",
       "    </tr>\n",
       "    <tr>\n",
       "      <td>Aspartic acid</td>\n",
       "      <td>1.88</td>\n",
       "      <td>9.60</td>\n",
       "      <td>3.65</td>\n",
       "    </tr>\n",
       "    <tr>\n",
       "      <td>Cysteine</td>\n",
       "      <td>1.96</td>\n",
       "      <td>10.28</td>\n",
       "      <td>8.18</td>\n",
       "    </tr>\n",
       "    <tr>\n",
       "      <td>Glutamic acid</td>\n",
       "      <td>2.19</td>\n",
       "      <td>9.67</td>\n",
       "      <td>4.25</td>\n",
       "    </tr>\n",
       "  </tbody>\n",
       "</table>\n",
       "</div>"
      ],
      "text/plain": [
       "               pKa1   pKb2   pKx3\n",
       "Name                             \n",
       "Arginine       2.17   9.04  12.48\n",
       "Asparagine     2.02   8.80    NaN\n",
       "Aspartic acid  1.88   9.60   3.65\n",
       "Cysteine       1.96  10.28   8.18\n",
       "Glutamic acid  2.19   9.67   4.25"
      ]
     },
     "metadata": {},
     "output_type": "display_data"
    }
   ],
   "source": [
    "display( df['Arginine':'Glutamic acid'][['pKa1','pKb2','pKx3']] )"
   ]
  },
  {
   "cell_type": "code",
   "execution_count": 41,
   "metadata": {
    "slideshow": {
     "slide_type": "fragment"
    }
   },
   "outputs": [
    {
     "data": {
      "text/plain": [
       "array([174.2 , 132.12, 133.11, 121.16, 147.13, 146.15])"
      ]
     },
     "execution_count": 41,
     "metadata": {},
     "output_type": "execute_result"
    }
   ],
   "source": [
    "df['Arginine':'Glutamine']['Molecular  Weight'].values"
   ]
  },
  {
   "cell_type": "code",
   "execution_count": 42,
   "metadata": {
    "slideshow": {
     "slide_type": "fragment"
    }
   },
   "outputs": [
    {
     "data": {
      "text/plain": [
       "142.31166666666667"
      ]
     },
     "execution_count": 42,
     "metadata": {},
     "output_type": "execute_result"
    }
   ],
   "source": [
    "df['Arginine':'Glutamine']['Molecular  Weight'].values.mean()"
   ]
  },
  {
   "cell_type": "code",
   "execution_count": 43,
   "metadata": {
    "slideshow": {
     "slide_type": "slide"
    }
   },
   "outputs": [
    {
     "data": {
      "text/html": [
       "<div>\n",
       "<style scoped>\n",
       "    .dataframe tbody tr th:only-of-type {\n",
       "        vertical-align: middle;\n",
       "    }\n",
       "\n",
       "    .dataframe tbody tr th {\n",
       "        vertical-align: top;\n",
       "    }\n",
       "\n",
       "    .dataframe thead th {\n",
       "        text-align: right;\n",
       "    }\n",
       "</style>\n",
       "<table border=\"1\" class=\"dataframe\">\n",
       "  <thead>\n",
       "    <tr style=\"text-align: right;\">\n",
       "      <th></th>\n",
       "      <th>Abbr.</th>\n",
       "      <th>Abbr..1</th>\n",
       "      <th>Molecular  Weight</th>\n",
       "      <th>Molecular  Formula</th>\n",
       "      <th>Residue  Formula</th>\n",
       "      <th>Residue Weight  (-H2O)</th>\n",
       "      <th>pKa1</th>\n",
       "      <th>pKb2</th>\n",
       "      <th>pKx3</th>\n",
       "      <th>pl4</th>\n",
       "    </tr>\n",
       "    <tr>\n",
       "      <th>Name</th>\n",
       "      <th></th>\n",
       "      <th></th>\n",
       "      <th></th>\n",
       "      <th></th>\n",
       "      <th></th>\n",
       "      <th></th>\n",
       "      <th></th>\n",
       "      <th></th>\n",
       "      <th></th>\n",
       "      <th></th>\n",
       "    </tr>\n",
       "  </thead>\n",
       "  <tbody>\n",
       "    <tr>\n",
       "      <td>Arginine</td>\n",
       "      <td>Arg</td>\n",
       "      <td>R</td>\n",
       "      <td>174.20</td>\n",
       "      <td>C6H14N4O2</td>\n",
       "      <td>C6H12N4O</td>\n",
       "      <td>156.19</td>\n",
       "      <td>2.17</td>\n",
       "      <td>9.04</td>\n",
       "      <td>12.48</td>\n",
       "      <td>10.76</td>\n",
       "    </tr>\n",
       "    <tr>\n",
       "      <td>Histidine</td>\n",
       "      <td>His</td>\n",
       "      <td>H</td>\n",
       "      <td>155.16</td>\n",
       "      <td>C6H9N3O2</td>\n",
       "      <td>C6H7N3O</td>\n",
       "      <td>137.14</td>\n",
       "      <td>1.82</td>\n",
       "      <td>9.17</td>\n",
       "      <td>6.00</td>\n",
       "      <td>7.59</td>\n",
       "    </tr>\n",
       "    <tr>\n",
       "      <td>Lysine</td>\n",
       "      <td>Lys</td>\n",
       "      <td>K</td>\n",
       "      <td>146.19</td>\n",
       "      <td>C6H14N2O2</td>\n",
       "      <td>C6H12N2O</td>\n",
       "      <td>128.18</td>\n",
       "      <td>2.18</td>\n",
       "      <td>8.95</td>\n",
       "      <td>10.53</td>\n",
       "      <td>9.74</td>\n",
       "    </tr>\n",
       "  </tbody>\n",
       "</table>\n",
       "</div>"
      ],
      "text/plain": [
       "          Abbr. Abbr..1  Molecular  Weight Molecular  Formula  \\\n",
       "Name                                                            \n",
       "Arginine    Arg       R             174.20          C6H14N4O2   \n",
       "Histidine   His       H             155.16           C6H9N3O2   \n",
       "Lysine      Lys       K             146.19          C6H14N2O2   \n",
       "\n",
       "          Residue  Formula  Residue Weight  (-H2O)  pKa1  pKb2   pKx3    pl4  \n",
       "Name                                                                          \n",
       "Arginine          C6H12N4O                  156.19  2.17  9.04  12.48  10.76  \n",
       "Histidine          C6H7N3O                  137.14  1.82  9.17   6.00   7.59  \n",
       "Lysine            C6H12N2O                  128.18  2.18  8.95  10.53   9.74  "
      ]
     },
     "metadata": {},
     "output_type": "display_data"
    }
   ],
   "source": [
    "display(df[df['pl4']>7])"
   ]
  },
  {
   "cell_type": "code",
   "execution_count": 44,
   "metadata": {
    "slideshow": {
     "slide_type": "fragment"
    }
   },
   "outputs": [
    {
     "data": {
      "text/plain": [
       "158.51666666666668"
      ]
     },
     "execution_count": 44,
     "metadata": {},
     "output_type": "execute_result"
    }
   ],
   "source": [
    "df[df['pl4']>7]['Molecular  Weight'].values.mean()"
   ]
  },
  {
   "cell_type": "code",
   "execution_count": 45,
   "metadata": {
    "slideshow": {
     "slide_type": "fragment"
    }
   },
   "outputs": [
    {
     "data": {
      "text/plain": [
       "18.014545454545452"
      ]
     },
     "execution_count": 45,
     "metadata": {},
     "output_type": "execute_result"
    }
   ],
   "source": [
    "np.mean(df['Molecular  Weight']-df['Residue Weight  (-H2O)'])"
   ]
  },
  {
   "cell_type": "markdown",
   "metadata": {
    "slideshow": {
     "slide_type": "slide"
    }
   },
   "source": [
    "[<img src=\"https://jakevdp.github.io/PythonDataScienceHandbook/figures/PDSH-cover.png\" width=\"400\" align=\"center\"/>](https://jakevdp.github.io/PythonDataScienceHandbook/)\n",
    "https://jakevdp.github.io/PythonDataScienceHandbook/"
   ]
  },
  {
   "cell_type": "markdown",
   "metadata": {
    "slideshow": {
     "slide_type": "slide"
    }
   },
   "source": [
    "### [Jupyter Course in Lund](https://github.com/mlund/jupyter-course)\n",
    "\n",
    "#### Reproducible and Interactive Data Analysis and Modelling using Jupyter Notebooks (4 ECTS)\n",
    "\n",
    "- course developed by me, Caterina Doglioni, Mikael Lund and Benjamin Ragan-Kelley\n",
    "- [COMPUTE](http://cbbp.thep.lu.se/compute/Previous_courses.php) research school (Natural Science)\n",
    "- video lectures ([Intro & Widgets](https://api.kaltura.nordu.net/p/310/sp/31000/embedIframeJs/uiconf_id/23450585/partner_id/310/widget_id/0_vujap4by?iframeembed=true&playerId=kaltura_player_5bfdb69292c20&flashvars[playlistAPI.kpl0Id]=0_nc717bpa&flashvars[playlistAPI.autoContinue]=true&flashvars[playlistAPI.autoInsert]=true&flashvars[ks]=&flashvars[localizationCode]=en&flashvars[imageDefaultDuration]=30&flashvars[leadWithHTML5]=true&flashvars[forceMobileHTML5]=true&flashvars[nextPrevBtn.plugin]=true&flashvars[sideBarContainer.plugin]=true&flashvars[sideBarContainer.position]=left&flashvars[sideBarContainer.clickToClose]=true&flashvars[chapters.plugin]=true&flashvars[chapters.layout]=vertical&flashvars[chapters.thumbnailRotator]=false&flashvars[streamSelector.plugin]=true&flashvars[EmbedPlayer.SpinnerTarget]=videoHolder&flashvars[dualScreen.plugin]=true), [Libraries](https://www.youtube.com/playlist?list=PLto3nNV9nKZlXSWOAqmmn4J7csD4I6a2d), [ATLAS Dijet](https://api.kaltura.nordu.net/p/310/sp/31000/embedIframeJs/uiconf_id/23450585/partner_id/310/widget_id/0_hr5l2zj6?iframeembed=true&playerId=kaltura_player_5bfdb5d709908&flashvars[playlistAPI.kpl0Id]=0_pspvclw2&flashvars[playlistAPI.autoContinue]=true&flashvars[playlistAPI.autoInsert]=true&flashvars[ks]=&flashvars[localizationCode]=en&flashvars[imageDefaultDuration]=30&flashvars[leadWithHTML5]=true&flashvars[forceMobileHTML5]=true&flashvars[nextPrevBtn.plugin]=true&flashvars[sideBarContainer.plugin]=true&flashvars[sideBarContainer.position]=left&flashvars[sideBarContainer.clickToClose]=true&flashvars[chapters.plugin]=true&flashvars[chapters.layout]=vertical&flashvars[chapters.thumbnailRotator]=false&flashvars[streamSelector.plugin]=true&flashvars[EmbedPlayer.SpinnerTarget]=videoHolder&flashvars[dualScreen.plugin]=true)), hands-on sessions, and peer-reviewed project work \n",
    "- next event: December–January\n",
    "- contact: \n",
    "    - Ross Church: ross@astro.lu.se\n",
    "    - Caterina Doglioni: caterina.doglioni@hep.lu.se\n",
    "    - Mikael Lund: mikael.lund@teokem.lu.se\n",
    "<img src=\"https://github.githubassets.com/images/modules/logos_page/GitHub-Mark.png\" width=\"100\" align=\"center\"/>\n",
    "<img src=\"https://upload.wikimedia.org/wikipedia/commons/e/e1/Logo_of_YouTube_%282015-2017%29.svg\" width=\"100\">"
   ]
  },
  {
   "cell_type": "markdown",
   "metadata": {
    "slideshow": {
     "slide_type": "slide"
    }
   },
   "source": [
    "[<img src=\"https://www.explore-group.com/storage/images-processed/w-1500_h-auto_m-fit_s-any__7th%20RDKit%20UGM%202018.jpg\" width=\"200\" align=\"center\"/>](http://www.rdkit.org/)"
   ]
  },
  {
   "cell_type": "code",
   "execution_count": 47,
   "metadata": {
    "slideshow": {
     "slide_type": "fragment"
    }
   },
   "outputs": [
    {
     "data": {
      "image/png": "[encoded data removed]",
      "text/plain": [
       "<rdkit.Chem.rdchem.Mol at 0x112075850>"
      ]
     },
     "execution_count": 47,
     "metadata": {},
     "output_type": "execute_result"
    }
   ],
   "source": [
    "from rdkit import Chem\n",
    "from rdkit.Chem.Draw import IPythonConsole\n",
    "m1 = Chem.MolFromSmiles('n1c2C(=O)NC(N)=Nc2ncc1CNc3ccc(cc3)C(=O)N[C@H](C(O)=O)CCC(O)=O')\n",
    "m1"
   ]
  },
  {
   "cell_type": "code",
   "execution_count": 48,
   "metadata": {
    "slideshow": {
     "slide_type": "fragment"
    }
   },
   "outputs": [],
   "source": [
    "from rdkit.Chem import Draw\n",
    "Draw.MolToFile(m1,'aux/folate.svg')"
   ]
  },
  {
   "cell_type": "code",
   "execution_count": 49,
   "metadata": {
    "slideshow": {
     "slide_type": "fragment"
    }
   },
   "outputs": [
    {
     "data": {
      "text/plain": [
       "32"
      ]
     },
     "execution_count": 49,
     "metadata": {},
     "output_type": "execute_result"
    }
   ],
   "source": [
    "m1.GetNumAtoms()"
   ]
  },
  {
   "cell_type": "code",
   "execution_count": 50,
   "metadata": {
    "slideshow": {
     "slide_type": "slide"
    }
   },
   "outputs": [
    {
     "data": {
      "text/plain": [
       "'Nc1nc2ncc(CNc3ccc(C(=O)N[C@@H](CCC(=O)O)C(=O)O)cc3)nc2c(=O)[nH]1'"
      ]
     },
     "execution_count": 50,
     "metadata": {},
     "output_type": "execute_result"
    }
   ],
   "source": [
    "Chem.MolToSmiles(m1)"
   ]
  },
  {
   "cell_type": "code",
   "execution_count": 51,
   "metadata": {
    "slideshow": {
     "slide_type": "fragment"
    }
   },
   "outputs": [
    {
     "data": {
      "image/png": "[encoded data removed]",
      "text/plain": [
       "<rdkit.Chem.rdchem.Mol at 0x119200e90>"
      ]
     },
     "execution_count": 51,
     "metadata": {},
     "output_type": "execute_result"
    }
   ],
   "source": [
    "m2 = Chem.AddHs(m1) # add hydrogens\n",
    "m2"
   ]
  },
  {
   "cell_type": "code",
   "execution_count": 52,
   "metadata": {
    "slideshow": {
     "slide_type": "fragment"
    }
   },
   "outputs": [
    {
     "data": {
      "image/png": "[encoded data removed]",
      "text/plain": [
       "<rdkit.Chem.rdchem.Mol at 0x119200e90>"
      ]
     },
     "execution_count": 52,
     "metadata": {},
     "output_type": "execute_result"
    }
   ],
   "source": [
    "from rdkit.Chem import AllChem\n",
    "Chem.AllChem.EmbedMolecule(m2) # make it 3D using ETKDG method\n",
    "m2"
   ]
  },
  {
   "cell_type": "code",
   "execution_count": 58,
   "metadata": {
    "slideshow": {
     "slide_type": "slide"
    }
   },
   "outputs": [
    {
     "data": {
      "application/vnd.jupyter.widget-view+json": {
       "model_id": "ec660e0e7a6b4c6ebc03a1e9b9495001",
       "version_major": 2,
       "version_minor": 0
      },
      "text/plain": [
       "NGLWidget()"
      ]
     },
     "metadata": {},
     "output_type": "display_data"
    }
   ],
   "source": [
    "import nglview as nv\n",
    "view = nv.show_rdkit(m2)\n",
    "view"
   ]
  },
  {
   "cell_type": "code",
   "execution_count": 59,
   "metadata": {
    "slideshow": {
     "slide_type": "fragment"
    }
   },
   "outputs": [],
   "source": [
    "print(Chem.MolToMolBlock(m2),file=open('aux/folate.mol','w+'))"
   ]
  },
  {
   "cell_type": "code",
   "execution_count": 60,
   "metadata": {
    "slideshow": {
     "slide_type": "fragment"
    }
   },
   "outputs": [
    {
     "data": {
      "application/vnd.jupyter.widget-view+json": {
       "model_id": "1c6d92da6dfd41749ba5de33443f1461",
       "version_major": 2,
       "version_minor": 0
      },
      "text/plain": [
       "NGLWidget()"
      ]
     },
     "metadata": {},
     "output_type": "display_data"
    }
   ],
   "source": [
    "\n",
    "view = nv.show_file('aux/folate.mol')\n",
    "view"
   ]
  },
  {
   "cell_type": "markdown",
   "metadata": {
    "slideshow": {
     "slide_type": "slide"
    }
   },
   "source": [
    "<img src=\"http://mdtraj.org/1.9.3/_static/mdtraj_logo-small.png\" width=\"200\" align=\"left\"/>"
   ]
  },
  {
   "cell_type": "code",
   "execution_count": 61,
   "metadata": {
    "slideshow": {
     "slide_type": "fragment"
    }
   },
   "outputs": [
    {
     "name": "stdout",
     "output_type": "stream",
     "text": [
      "Number of atoms: 10369\n",
      "Number of residues: 2386\n",
      "Number of chains: 24\n",
      "Radius of gyration: 2.3107479678330973 nm\n"
     ]
    }
   ],
   "source": [
    "import mdtraj as md\n",
    "s = md.load('aux/4mqj.pdb')\n",
    "print('Number of atoms:', s.n_atoms)\n",
    "print('Number of residues:', s.n_residues)\n",
    "chains = [chain for chain in s.top.chains]\n",
    "n_chains = len(chains)\n",
    "print('Number of chains:', n_chains)\n",
    "s14 = s.atom_slice(s.top.select('all and chainid < 4'))\n",
    "print('Radius of gyration:',md.compute_rg(s14)[0],'nm')"
   ]
  },
  {
   "cell_type": "code",
   "execution_count": 62,
   "metadata": {
    "slideshow": {
     "slide_type": "slide"
    }
   },
   "outputs": [
    {
     "data": {
      "application/vnd.jupyter.widget-view+json": {
       "model_id": "b0d437a9e56e4907a516c2616bcf1ff2",
       "version_major": 2,
       "version_minor": 0
      },
      "text/plain": [
       "NGLWidget()"
      ]
     },
     "metadata": {},
     "output_type": "display_data"
    }
   ],
   "source": [
    "import nglview as nv\n",
    "view = nv.show_pdbid('4mqj')\n",
    "view"
   ]
  },
  {
   "cell_type": "code",
   "execution_count": 63,
   "metadata": {
    "scrolled": true,
    "slideshow": {
     "slide_type": "fragment"
    }
   },
   "outputs": [
    {
     "data": {
      "application/vnd.jupyter.widget-view+json": {
       "model_id": "793eef6662aa42869ccef73e0d251c4c",
       "version_major": 2,
       "version_minor": 0
      },
      "text/plain": [
       "NGLWidget()"
      ]
     },
     "metadata": {},
     "output_type": "display_data"
    }
   ],
   "source": [
    "import matplotlib as mpl\n",
    "view = nv.show_mdtraj(s)\n",
    "view.clear_representations(component=0)\n",
    "for i in range(4):\n",
    "    chain = [a.index for a in s.top.chain(i).atoms]\n",
    "    view.add_representation('spacefill', selection=chain, color=mpl.colors.to_hex(plt.cm.tab20(i)))\n",
    "view"
   ]
  },
  {
   "cell_type": "code",
   "execution_count": 66,
   "metadata": {
    "slideshow": {
     "slide_type": "slide"
    }
   },
   "outputs": [],
   "source": [
    "def viewColorScheme(molecule,dataframe):\n",
    "    dataframe = dataframe.copy()\n",
    "    dataframe['Abbr.'] = dataframe['Abbr.'].str.upper()\n",
    "    dataframe.set_index('Abbr.', drop=True, inplace=True)\n",
    "    dd = dataframe.dropna()\n",
    "    dataframe = dataframe.fillna(0)\n",
    "    preg = (dd['pKx3']-dd['pKx3'].min()) / (dd['pKx3'].max() - dd['pKx3'].min())\n",
    "    colorscheme = pd.Series([mpl.colors.to_hex(c) for c in plt.cm.rainbow_r(preg)],index=preg.index)\n",
    "    view = nv.show_mdtraj(molecule)\n",
    "    view.clear_representations(component=0)\n",
    "    for res in [res for chain in chains[:4] for res in chain.residues ]:\n",
    "        atoms = [a.index for a in res.atoms]\n",
    "        if dataframe.loc[res.name]['pKx3'] == 0:\n",
    "            view.add_spacefill(selection=atoms, color='#ffffff')\n",
    "        else:\n",
    "            view.add_spacefill(selection=atoms, color=colorscheme[res.name])\n",
    "    view.camera = 'orthographic'\n",
    "    return view"
   ]
  },
  {
   "cell_type": "code",
   "execution_count": 67,
   "metadata": {
    "slideshow": {
     "slide_type": "fragment"
    }
   },
   "outputs": [
    {
     "data": {
      "application/vnd.jupyter.widget-view+json": {
       "model_id": "a6682364b898462d9a1100b60ce46276",
       "version_major": 2,
       "version_minor": 0
      },
      "text/plain": [
       "NGLWidget()"
      ]
     },
     "metadata": {},
     "output_type": "display_data"
    }
   ],
   "source": [
    "viewColorScheme(s,df)"
   ]
  },
  {
   "cell_type": "markdown",
   "metadata": {
    "slideshow": {
     "slide_type": "slide"
    }
   },
   "source": [
    "### How to get started\n",
    "\n",
    "The installation is simple and quick!\n",
    "\n",
    "- Install [miniconda](https://docs.conda.io/en/latest/miniconda.html)\n",
    "- miniconda is the light version of anaconda, a package manager that runs on Windows, Mac and Linux\n",
    "\n",
    "![alt text](https://www.anaconda.com/wp-content/uploads/2018/06/cropped-Anaconda_horizontal_RGB-1-600x102.png)"
   ]
  },
  {
   "cell_type": "markdown",
   "metadata": {
    "slideshow": {
     "slide_type": "slide"
    }
   },
   "source": [
    "#### On Mac or Linux\n",
    "\n",
    "- Download the installation script for your operating system\n",
    "    - using the terminal: `curl -O https://repo.anaconda.com/miniconda/Miniconda3-latest-MacOSX-x86_64.sh`\n",
    "- Install by running the script: \n",
    "    - type and enter `bash Miniconda3-latest-MacOSX-x86_64.sh`\n",
    "- Create a `conda` environment with Python 3.7 (the latest version):\n",
    "    - type and enter `conda create -n myenv python`, myenv is the name of the environment (any name works)\n",
    "- Activate the environment:\n",
    "    - `source activate myenv`\n",
    "- Install notebook, numpy, pandas, matplotlib, scipy:\n",
    "    - `conda install notebook numpy pandas matplotlib scipy`\n",
    "- Install RDkit, mdtraj, nglview, ipywidgets\n",
    "    - we need to specify the channel: `conda install -c conda-forge rdkit mdtraj nglview ipywidgets`\n",
    "- launch Jupyter notebook: `jupyter-notebook`"
   ]
  },
  {
   "cell_type": "markdown",
   "metadata": {
    "slideshow": {
     "slide_type": "slide"
    }
   },
   "source": [
    "#### On Windows\n",
    "\n",
    "- Download the installation executable for your operating system\n",
    "- Install by running the `.exe` file\n",
    "- Create a new `conda` environment with Python 3.7 (the latest version):\n",
    "    - open the anaconda prompt from the start menu and navigate to the folder where the course material has been unzipped (e.g. using cd to change directory and dir to list files in a folder)\n",
    "    - type: `conda create -n myenv python`, myenv is the name of the environment (any name works)\n",
    "- Activate the environment:\n",
    "    - `activate myenv`\n",
    "- Install notebook, numpy, pandas, matplotlib, scipy:\n",
    "    - `conda install notebook numpy pandas matplotlib scipy`\n",
    "- Install RDkit, mdtraj, nglview\n",
    "    - we need to specify the channel: `conda install -c conda-forge rdkit mdtraj nglview ipywidgets`\n",
    "- launch Jupyter notebook: `jupyter-notebook`"
   ]
  },
  {
   "cell_type": "code",
   "execution_count": 68,
   "metadata": {
    "slideshow": {
     "slide_type": "slide"
    }
   },
   "outputs": [
    {
     "data": {
      "text/html": [
       "\n",
       "        <iframe\n",
       "            width=\"640\"\n",
       "            height=\"400\"\n",
       "            src=\"https://www.youtube.com/embed/HW29067qVWk\"\n",
       "            frameborder=\"0\"\n",
       "            allowfullscreen\n",
       "        ></iframe>\n",
       "        "
      ],
      "text/plain": [
       "<IPython.lib.display.IFrame at 0x11b98d4a8>"
      ]
     },
     "execution_count": 68,
     "metadata": {},
     "output_type": "execute_result"
    }
   ],
   "source": [
    "from IPython.display import IFrame\n",
    "IFrame(src='https://www.youtube.com/embed/HW29067qVWk', width=640, height=400)"
   ]
  },
  {
   "cell_type": "markdown",
   "metadata": {
    "slideshow": {
     "slide_type": "slide"
    }
   },
   "source": [
    "### How to share my notebooks to help other scientists to reproduce my analyses\n",
    "\n",
    "- [Ten simple rules for writing and sharing computational analyses in Jupyter Notebooks](https://doi.org/10.1371/journal.pcbi.1007007)\n",
    "<br><br>\n",
    "- Saved as an HTML file and provided as Supporting Information\n",
    "<br><br>\n",
    "- It is important to provide the list of packages needed to run the notebook:\n",
    "    - create a conda environment for every project\n",
    "    - export the conda environment to a yml file: `conda env export > environment.yml`\n",
    "    - other scientists can quickly reproduce your environment: `conda env create -f environment.yml`\n",
    "<br><br>\n",
    "- `notebook.ipynb` + data + `environment.yml` in a zip file as Supporting Information\n",
    "<br><br>\n",
    "- Example: [refnx: neutron and X-ray reflectometry analysis in Python](http://scripts.iucr.org/cgi-bin/paper?rg5158)"
   ]
  },
  {
   "cell_type": "markdown",
   "metadata": {
    "slideshow": {
     "slide_type": "slide"
    }
   },
   "source": [
    "### How to share my notebooks to help other scientists to reproduce my analyses\n",
    "\n",
    "- [Create a GitHub repository](https://help.github.com/en/github/getting-started-with-github/create-a-repo)\n",
    "<br><br>\n",
    "- Upload your notebook and `environment.yml`\n",
    "<br><br>\n",
    "- [myBinder](https://mybinder.readthedocs.io/en/latest/introduction.html) allows you to run the notebook in the repository on a server: no need to download and install \n",
    "<br><br>\n",
    "- Example: [refnx: neutron and X-ray reflectometry analysis in Python](https://github.com/refnx/refnx)\n",
    "\n",
    "[<img src=\"https://github.githubassets.com/images/modules/logos_page/GitHub-Mark.png\" width=\"100\" align=\"left\"/>](https://reproducible-science-curriculum.github.io/sharing-RR-Jupyter/01-sharing-github/)\n",
    "<br>\n",
    "\n",
    "<img src=\"https://mybinder.org/static/logo.svg?v=f9f0d927b67cc9dc99d788c822ca21c0\" width=\"200\" align=\"left\"/>"
   ]
  },
  {
   "cell_type": "markdown",
   "metadata": {
    "slideshow": {
     "slide_type": "skip"
    }
   },
   "source": [
    "To convert a notebook into slides in pdf format:\n",
    "1. `jupyter nbconvert --to slides jupyter.ipynb --post serve`\n",
    "2. `conda install nodejs`\n",
    "3. `npm install -g decktape`\n",
    "4. copy `reveal.js/` and `custom.css` in the notebook directory (Developer Tools in Chrome)\n",
    "5. modify `reveal.js/js/reveal.js` so that: width: \"90%\", height: \"90%\", margin: 0, minScale: 1 and maxScale: 1\n",
    "6. convert html to pdf: `decktape jupyter.slides.html jupyter.pdf`"
   ]
  }
 ],
 "metadata": {
  "celltoolbar": "Slideshow",
  "kernelspec": {
   "display_name": "Python 3",
   "language": "python",
   "name": "python3"
  },
  "language_info": {
   "codemirror_mode": {
    "name": "ipython",
    "version": 3
   },
   "file_extension": ".py",
   "mimetype": "text/x-python",
   "name": "python",
   "nbconvert_exporter": "python",
   "pygments_lexer": "ipython3",
   "version": "3.7.3"
  }
 },
 "nbformat": 4,
 "nbformat_minor": 2
}
