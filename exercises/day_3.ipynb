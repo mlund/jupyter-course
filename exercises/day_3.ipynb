{
 "cells": [
  {
   "cell_type": "markdown",
   "metadata": {},
   "source": [
    "# Day 3. Interactive Controls"
   ]
  },
  {
   "cell_type": "markdown",
   "metadata": {},
   "source": [
    "* [IPython Widgets](#1)\n",
    "* [Bokeh](#2)"
   ]
  },
  {
   "cell_type": "code",
   "execution_count": null,
   "metadata": {},
   "outputs": [],
   "source": [
    "from IPython.display import IFrame\n",
    "from IPython.display import YouTubeVideo\n",
    "from ipywidgets import interact, interactive, fixed\n",
    "import numpy as np\n",
    "import matplotlib as mpl\n",
    "import matplotlib.pyplot as plt\n",
    "%matplotlib inline\n",
    "import pandas as pd\n",
    "from cryptography.fernet import Fernet\n",
    "import base64\n",
    "def encrypt(string, key):\n",
    "    keygen = lambda x : base64.urlsafe_b64encode(x.encode() + b' '*(32 - len(x)))\n",
    "    cipher = Fernet(keygen(key))\n",
    "    return cipher.encrypt(string.encode())\n",
    "def decrypt(string, key):\n",
    "    keygen = lambda x : base64.urlsafe_b64encode(x.encode() + b' '*(32 - len(x)))\n",
    "    cipher = Fernet(keygen(key))\n",
    "    return print(cipher.decrypt(string.encode()).decode())"
   ]
  },
  {
   "cell_type": "markdown",
   "metadata": {},
   "source": [
    "<a id='1'></a>"
   ]
  },
  {
   "cell_type": "markdown",
   "metadata": {},
   "source": [
    "# IPython Widgets"
   ]
  },
  {
   "cell_type": "code",
   "execution_count": null,
   "metadata": {},
   "outputs": [],
   "source": [
    "IFrame(src='https://api.kaltura.nordu.net/p/310/sp/31000/embedIframeJs/uiconf_id/23449977/partner_id/310?iframeembed=true&playerId=kaltura_player&entry_id=0_18ipnucr&flashvars[streamerType]=auto&amp;flashvars[localizationCode]=en&amp;flashvars[leadWithHTML5]=true&amp;flashvars[sideBarContainer.plugin]=true&amp;flashvars[sideBarContainer.position]=left&amp;flashvars[sideBarContainer.clickToClose]=true&amp;flashvars[chapters.plugin]=true&amp;flashvars[chapters.layout]=vertical&amp;flashvars[chapters.thumbnailRotator]=false&amp;flashvars[streamSelector.plugin]=true&amp;flashvars[EmbedPlayer.SpinnerTarget]=videoHolder&amp;flashvars[dualScreen.plugin]=true&amp;&wid=0_m97dwa52', width=608, height=402)"
   ]
  },
  {
   "cell_type": "markdown",
   "metadata": {},
   "source": [
    "## Task 1\n",
    "Create an interactive function that returns the number of words in a text. The user interface should consist of a text area. Hint: use [split](https://docs.python.org/3/library/stdtypes.html#str.split)."
   ]
  },
  {
   "cell_type": "code",
   "execution_count": null,
   "metadata": {},
   "outputs": [],
   "source": [
    "answer = 'gAAAAABcBE3nc21nV9chE1Qim80hFg5iHLw0-5jQcV1gtsFX4MN9_by8PWa7XcN80CGvShXFmh33AOaB6YCuTmTnNDGJmjQQJD4ip_bRIpdrRYSQTngImF4o4bi2Wv5fOLhk1dparYfliwieqb-yVi6b2jkTDhim6Ot9ipQ2hXgv9S_qFwweovdbN5VKr9zHgFCsrXDjQPRJ5WGrb7Ye55-1UhtkF2gHUvKhjIgxvzKI07qWfKTamLLVXns96RtSK6a6-gVQWlDS'\n"
   ]
  },
  {
   "cell_type": "code",
   "execution_count": null,
   "metadata": {},
   "outputs": [],
   "source": [
    "decrypt(answer,)"
   ]
  },
  {
   "cell_type": "code",
   "execution_count": null,
   "metadata": {},
   "outputs": [],
   "source": [
    "@interact(text='hello')\n",
    "def f(text):\n",
    "    print(text)"
   ]
  },
  {
   "cell_type": "code",
   "execution_count": null,
   "metadata": {},
   "outputs": [],
   "source": [
    "@interact(text='',)\n",
    "def f(text):\n",
    "    n = 0\n",
    "    if len(text)>0:\n",
    "        n = len( text.split(' ') )\n",
    "    print('Number of words:',n)"
   ]
  },
  {
   "cell_type": "markdown",
   "metadata": {},
   "source": [
    "## Task 2\n",
    "Create an interactive function that returns the number of words and the number of characters in a text. The user interface should consist of a dropdown menu and a text area. Hint: use [split](https://docs.python.org/3/library/stdtypes.html#str.split) and str.replace()."
   ]
  },
  {
   "cell_type": "code",
   "execution_count": null,
   "metadata": {},
   "outputs": [],
   "source": [
    "answer = 'gAAAAABcBFWm9q_kCXaTRs_seAM7b8XtKB182n80Hojlw-eyY0eqK-W9ZukhIeWf_4cP1XNEZ2273RH0Rcp3q59ex-sYl6kafEeJV0cJnIqnzt3h0BKYVFHH_g5qPhOFPT9Kf3sLf4ZX_pUU-jELD_7MTtI2yMeBhA9aTKg55ylQOOKb-YG6X9uD80VF1VdqUX2QpT0HJIAxaotyuTU_l5OCsr4ZbjbjNROXy-zU9UgfmMlBxvSH02wD-VJzWY0PB5ZkgK-oi0mJI5NhN7tWnauQ3Upn2S7AhlDqEjTHgfrMT2J8aV2PLgU3efkO_njxrZDATJuipghPaVbpPG-a5p-vz6IW_oseWsjQAUyAj1mWWZwAYSTbQrzd1Hz2o4ChxrrseY-vMW3JLA8oAZNsrmftmYxaIBhBMFXRcJ12yrVNV5RrBo6MnaqacI29Pnqb5vVkRH42QeQgkvcpQLPzWb8zzJDBPDXYXg=='\n"
   ]
  },
  {
   "cell_type": "code",
   "execution_count": null,
   "metadata": {},
   "outputs": [],
   "source": [
    "decrypt(answer,)"
   ]
  },
  {
   "cell_type": "markdown",
   "metadata": {},
   "source": [
    "## Task 3\n",
    "\n",
    "Make an interactive plot of the following function with two sliding bars to control $\\nu$ and $\\Gamma$\n",
    "\n",
    "\\begin{equation}\n",
    "I(t) = \\cos{(2 \\pi \\nu t)} \\exp{(-t 2 \\pi \\Gamma)} \n",
    "\\end{equation}\n",
    "\n",
    "1. Define a function of $\\nu$ and $\\Gamma$ that plots $I(t)$\n",
    "2. Use interactive to generate the sliders coupled to the parameters $\\nu$ and $\\Gamma$\n",
    "3. Modify the description of the children (the two sliders)\n",
    "\n",
    "Complete the following code\n",
    "\n",
    "```.py\n",
    "def plot_cos_decay(freq=1,gamma=.2):\n",
    "\n",
    "    def cos_decay(time,freq,gamma):\n",
    "        cos = np.cos(2*np.pi*freq*time)\n",
    "        exp = np.exp(-time*2*np.pi*gamma)\n",
    "        return exp*cos\n",
    "\n",
    "    time = np.arange(0,10,.001)\n",
    "\n",
    "    fig = plt.figure(figsize=(3.5,4))\n",
    "    ax = plt.axes()\n",
    "    ax.plot(,,color=plt.get_cmap('tab10')(3), lw=1)\n",
    "    ax.set_ylabel('$I(t)$',fontsize=12)\n",
    "    ax.set_xlabel(r'Time',fontsize=12)\n",
    "    ax.set_xlim(0,10)\n",
    "    \n",
    "interactive_plot = interactive( )\n",
    "interactive_plot.children[0].description=r'$f$' # slider\n",
    "interactive_plot```"
   ]
  },
  {
   "cell_type": "code",
   "execution_count": null,
   "metadata": {},
   "outputs": [],
   "source": [
    "answer = 'gAAAAABcBvmULdmxrFtMQ1AVeXU44jtvp8aF3jqh8G4ot7SRg6STnut7NJ7zKy57iriNHxyaHG0P6Ut8z5W5sC3QSvVLfh4C63Bg2xv2OLZJjjqUNsPRNv_KiAK1qU1y8qBJYAY_zvkLQcQyEozLf0bq_0DRpwIEmM_8Q6PTpq_K51D5rM2cDxloCh1xE_Lqysuo9PAclHsIbYR6aJVvoK2s8vD42Sx5O5QMNvxssbYgXvU2KZCazLYu9Y9Ks35E0reqmu77OORCQZjJKFpc_g7YfTj_nv3w7jeW43I17s8xENkGgcQtsXAM1UO-B6w8MtaNGtszv1uPaYVjJ-APl6nCaChqSCNLBFXLoxuGjOuLF5txCzRf8SiDRgHgEIx6Ni74AYRx8hftB53jGBwwNV12MjVis5l7gL2rH_6DOL3ltJiGobNUsZLoos0VKsNvZn49rnO7Z_fqWonq0gK8UfzKzceSJcMpufmDOH4KZW4wCB6iJSp0lzNQXTUxRt4_V99ky2DNrb7ReHeU-phWt1-vEeTD1o1GwT2NYSKAXEFIhjRszNkWwbIxLMxLOqlDKZhO-YcvG5KObDbIzKIsI3Sth0HLhKK4CPE0ZPL7uPWh6eQv-KmsvV_NMungPShD9185P5uYdbqZ-23BOdBtwCZdBWi7H-GgvmG_NpINSQ_jeLv3qgkNgEbQvbOkrzRDCYxWfneVH7z3U3sSU3zK_Qlnjheo4SaByUWGtRXRZsJgFDHrhoFPpAxh88ulpGjXUBhtBHc_ypfX6NGNxjPjpV1_vWYV4mookP-xgkSziaHCc1biCBT0K3N3WcCCDUj6Imy1ll3aT-eaMeA0rrr3OvLcNYobt08iC6JqX-XoJ62twDNJUfZOsuIzHdwVjq3q3p8pGcadfO1Vz81sFp3NabqoyZVof79UwW0AUChsYFvpqjwrz4xuA8Jftynyq8_n4anKwyUqen3BD3xt1epnWCl6QYMd5y9CDA=='\n"
   ]
  },
  {
   "cell_type": "code",
   "execution_count": null,
   "metadata": {},
   "outputs": [],
   "source": [
    "decrypt(answer,)"
   ]
  },
  {
   "cell_type": "markdown",
   "metadata": {},
   "source": [
    "## Task 4\n",
    "\n",
    "Add an inset in the previous plot showing the Fourier Transform of the decaying cosine\n",
    "\\begin{equation}\n",
    "I(\\nu) = \\int_0^\\infty \\mathrm{d}t \\cos{(2 \\pi \\nu t)}\\; I(t) \n",
    "\\end{equation}\n",
    "The plot in the inset should also be coupled to the sliders.\n",
    "\n",
    "<img src=\"figs/FT.png\" width=\"400\" align=\"left\"/>"
   ]
  },
  {
   "cell_type": "code",
   "execution_count": null,
   "metadata": {},
   "outputs": [],
   "source": [
    "answer = 'gAAAAABcBvkEo2TnSlwfLSy7cy53MY3K7wBcVtKvQEww8lWVRrra5u4TWq7ro9o1IoBRq1V-CVPp5QIrBlFWv7XHClZtUkk14YzW9ChEKponzkQo7-L9xXUPSEMlqckftQAAxiF5FBz1Od4azI7bYwLFQb7RZSCG2MS82x1OEXKv9BfSp3yfN_x-gb5Cnl8QsCTlkun8nBJv5j6xIL-dLpfJU4IO5Pwifcsu_eJj4QDYlVNwB3u_6mWvQ5rWox2LTt8eJHJkz9GbGFxGylGhApKyPsbItb7KDrCxRgW4gh1w0IwEInF8vNbkUwlQoXjhpb0jL6f2cx4we_mVz_OfuePnW9R-gET0JXm7R9hW4yuSR9_r0cSSIZyNREqJDA4cLqAnkhEVupw6LSvG926oQp7dYtuyEUYmq1OgIQ2jW6CYFPSwYecTN-nxVdBnUgXnwOWiKK52-O9tQ46U167LOt78vVa4hJm5cKiJIjQtV1LzHuT4rC8nTAghUxKZLustFRKt72s3Hx7w5D2XuIkyig152nzWoGGJyoRC-kwS9y5-MfB5a1OMAdriTZIAjfbrYcBNZA9X41poZIdCrhwRgvxP_I3HC4Y8jgFHohN4wb0PwFhmrKFC5r1OaqqLpA4HMyCkywNPa9FgXhzGx0P8Fzy6pzJztmzeSPoBiZmCqxs3P0PUfi07IesCcXqE_-AizVUpkG6iZyP7V_INEd15niD9aY1g_kg8evb0qAf8UN57CBNs7A8naLPJ4P0n3xtazkLL84CGIAfQx6ivZv1HclHs92ogo3Ayv_eE4RNcUdq0vxO0761-wcO6RFfyNkKK5MnzWsb-a8tGMZUmgk04klLZ9XUbjNEPnRFWVQSapDfWkzsRNfTMHC-ajJ7QOlNaS13EWRou3QvhyvNcwxhw-oQ4pMpvkMa0liBfp1l8YI6X8r0HI-hyunfF7seHwbkkqry4FlojP8lIHuyqlcaqvYuZec5kU12Gm7Mync-4X1bXBjU0VE3qvZBJqHMHr_zs00Z_qXSXZkeyL1CqvXgzXLpomSYiSVqzh7Qzbo378uafjH_uCJBE_g_3zDgy2VCg4tB2tgbVCZ7GqGsCctLr70KQhy0i2StHUYUtTTug1z4CSdC852IRx_8VlREuDSBVlJas0vMLKJo2asUrcZwb62WEwH_3ru0nJLjJ8m_CK97mMmXnxkvQL_QZZGGReJRxI7rNZakI8g6xE3zKw4xSzgSZ0piFlv30-_IxuDnwOXpKXihv_M8CmJKAWLdslIhSK0eX67BuIcrfoQ0v2cmhVH252GK0Z6NeC3bspLFJzdIvG5a9vM9ZEDaEE7MHx-jaRNIBrjSWM1j7ivTohT6rXXLTVqGDUadsv8Yk1nbzFLxNpvl5gJ6CAUiKNIfxbY5FgIEEfvJOgofStaP8zGyOdpIwxTJv-kDwGeSfzpVEaLmiAlmadbst1mzsbpKHQr1BTRHtH2c9FeehuoSR85-Y5qjVNSRgAR5aXzqLTDATjO7T6uXQutHXP530-COsA0PlMoivnglelE-j9ghFntUPAsfrIr5m5pJGL5tX_xTUlMI5WJkC851RHGHXF_MY2KxnLWmDvSP0S38rucob7Hpq6RUqpZKzocKCmwaVLPaYdYYyBvGSI4T_09M9YJ_ZufaS4Fbab11M_1gFKn1cnsF7igRBULMHrhUkbV9l73jldb-Cbice9DXGUsa61xGbWvrj5a-KXZKfh7jJ09lZe5I8SaWozRM22MQDaUoG7I9QzesfZ_-fYb9QUJiSe256JK7jiBKddNc4fQF5G-QqY3DJ7bXLbH0C73R4t9qQI20VNRruPLwo2q9fccHgbP2VbHzB5Vv2MzeQoX2gM2lpz_7Wje7D1zPVmiKTXhHAI9tDZSrSnJo8EDCwCn1I1JE-7ijdy8GKRS_IVKnz'\n"
   ]
  },
  {
   "cell_type": "code",
   "execution_count": null,
   "metadata": {},
   "outputs": [],
   "source": [
    "decrypt(answer,)"
   ]
  },
  {
   "cell_type": "markdown",
   "metadata": {},
   "source": [
    "<a id='2'></a>"
   ]
  },
  {
   "cell_type": "markdown",
   "metadata": {},
   "source": [
    "# Bokeh"
   ]
  },
  {
   "cell_type": "code",
   "execution_count": null,
   "metadata": {},
   "outputs": [],
   "source": [
    "YouTubeVideo('oLU5eIO7b84')"
   ]
  },
  {
   "cell_type": "markdown",
   "metadata": {},
   "source": [
    "## Task 5\n",
    "Create an animated plot showing the data on CO$_2$ release from the [ICOS data portal](https://www.icos-cp.eu/) in Hohenpeißenberg (HPB), Hyltemossa (HTM), and Norunda (NOR).<br>\n",
    "In the following cells, some steps are already implemented:\n",
    "1. We read the data sets into `pandas` DataFrames\n",
    "2. We average the emissions over years, days, and minutes to obtain the average emission throughout a day, hour by hour, for the different months\n",
    "3. We concatenate the DataFrames\n",
    "4. We create a static Bokeh plot with a tooltip inspection tool. The stations are represented by circles on a map. The radius of the circle is proportional to the CO$_2$ emission.\n",
    "Now let's add 2 slider widgets to control the month and the hour, following the approach shown in this [video lecture](https://youtu.be/oLU5eIO7b84)."
   ]
  },
  {
   "cell_type": "code",
   "execution_count": null,
   "metadata": {},
   "outputs": [],
   "source": [
    "!cat data/ICOS_ATC_L2_L2-2018.1_NOR_32.0_462.CO2 | grep \"LATITUDE\"\n",
    "!cat data/ICOS_ATC_L2_L2-2018.1_NOR_32.0_462.CO2 | grep \"LONGITUDE\"\n",
    "!cat data/ICOS_ATC_L2_L2-2018.1_HPB_93.0_382.CO2 | grep \"LATITUDE\"\n",
    "!cat data/ICOS_ATC_L2_L2-2018.1_HPB_93.0_382.CO2 | grep \"LONGITUDE\"\n",
    "!cat data/ICOS_ATC_L2_L2-2018.1_HTM_70.0_461.CO2 | grep \"LATITUDE\"\n",
    "!cat data/ICOS_ATC_L2_L2-2018.1_HTM_70.0_461.CO2 | grep \"LONGITUDE\""
   ]
  },
  {
   "cell_type": "code",
   "execution_count": null,
   "metadata": {},
   "outputs": [],
   "source": [
    "data_hpb = pd.read_csv('data/ICOS_ATC_L2_L2-2018.1_HPB_93.0_382.CO2',header=0,skiprows=38,sep=';')\n",
    "data_hpb[data_hpb.co2<0] = np.nan\n",
    "data_hpb.head()"
   ]
  },
  {
   "cell_type": "code",
   "execution_count": null,
   "metadata": {},
   "outputs": [],
   "source": [
    "data_hpb = data_hpb[['Year','Month','Day','Hour','Minute','co2','SamplingHeight']]\n",
    "data_hpb.set_index(['Year','Month','Day','Hour','Minute'],inplace=True)\n",
    "data_hpb = data_hpb.groupby(['Month','Hour'],level=(1,3)).mean()\n",
    "data_hpb.reset_index(inplace=True)\n",
    "data_hpb['co2'] /= 10\n",
    "data_hpb['lat'] = 47.8011\n",
    "data_hpb['lon'] = 11.0246\n",
    "data_hpb['station'] = 'Hohenpeißenberg'\n",
    "data_hpb.head()"
   ]
  },
  {
   "cell_type": "code",
   "execution_count": null,
   "metadata": {},
   "outputs": [],
   "source": [
    "data_nor = pd.read_csv('data/ICOS_ATC_L2_L2-2018.1_NOR_32.0_462.CO2',header=0,skiprows=38,sep=';')\n",
    "data_nor[data_nor.co2<0] = np.nan\n",
    "data_nor = data_nor[['Year','Month','Day','Hour','Minute','co2','SamplingHeight']]\n",
    "data_nor.set_index(['Year','Month','Day','Hour','Minute'],inplace=True)\n",
    "data_nor = data_nor.groupby(['Month','Hour'],level=(1,3)).mean()\n",
    "data_nor.reset_index(inplace=True)\n",
    "data_nor['co2'] /= 10\n",
    "data_nor['lat'] = 60.0864\n",
    "data_nor['lon'] = 17.4794\n",
    "data_nor['station'] = 'Norunda'\n",
    "data_nor.head()"
   ]
  },
  {
   "cell_type": "code",
   "execution_count": null,
   "metadata": {},
   "outputs": [],
   "source": [
    "data_htm = pd.read_csv('data/ICOS_ATC_L2_L2-2018.1_HTM_70.0_461.CO2',header=0,skiprows=38,sep=';')\n",
    "data_htm[data_htm.co2<0] = np.nan\n",
    "data_htm = data_htm[['Year','Month','Day','Hour','Minute','co2','SamplingHeight']]\n",
    "data_htm.set_index(['Year','Month','Day','Hour','Minute'],inplace=True)\n",
    "data_htm = data_htm.groupby(['Month','Hour'],level=(1,3)).mean()\n",
    "data_htm.reset_index(inplace=True)\n",
    "data_htm['co2'] /= 10\n",
    "data_htm['lat'] = 56.0976\n",
    "data_htm['lon'] = 13.4189\n",
    "data_htm['station'] = 'Hyltemossa'\n",
    "data_htm.head()"
   ]
  },
  {
   "cell_type": "code",
   "execution_count": null,
   "metadata": {},
   "outputs": [],
   "source": [
    "df = pd.concat([data_nor,data_hpb,data_htm])\n",
    "df.set_index(['Month','Hour'],inplace=True)\n",
    "df.sort_index(inplace=True)\n",
    "df.head()"
   ]
  },
  {
   "cell_type": "code",
   "execution_count": null,
   "metadata": {},
   "outputs": [],
   "source": [
    "def make_data(df,month,hour):\n",
    "    data = df.loc[month,hour].copy()\n",
    "    return data.reset_index()"
   ]
  },
  {
   "cell_type": "code",
   "execution_count": null,
   "metadata": {},
   "outputs": [],
   "source": [
    "make_data(df,1,4)"
   ]
  },
  {
   "cell_type": "code",
   "execution_count": null,
   "metadata": {},
   "outputs": [],
   "source": [
    "import geopandas as gpd\n",
    "from bokeh.plotting import figure\n",
    "from bokeh.io import show, output_notebook\n",
    "from bokeh.palettes import Category10\n",
    "from bokeh.models import GeoJSONDataSource, ColumnDataSource, HoverTool\n",
    "from bokeh.transform import factor_cmap\n",
    "from bokeh.models.widgets import Slider\n",
    "from bokeh.layouts import column, row, WidgetBox\n",
    "\n",
    "source = ColumnDataSource( data = make_data(df,1,4) )"
   ]
  },
  {
   "cell_type": "code",
   "execution_count": null,
   "metadata": {},
   "outputs": [],
   "source": [
    "location = { 'HPB': {'lat':47.8011,'lon':11.0246},\n",
    "           'NOR': {'lat':60.0864,'lon':17.4794} }\n",
    "\n",
    "europe = gpd.read_file(gpd.datasets.get_path('naturalearth_lowres'))\n",
    "geo_source = GeoJSONDataSource(geojson=europe.to_json())\n",
    "\n",
    "p = figure(title=\"CO\\u2082 Release in Europe\", x_range=(-30,60), y_range=(30,85),\n",
    "          tools='pan,reset')\n",
    "\n",
    "p.patches('xs', 'ys', fill_alpha=0,\n",
    "    line_color=Category10[10][7], line_width=1.5, source=geo_source)\n",
    "\n",
    "glyph = p.scatter('lon','lat', \n",
    "              source = source, size = 'co2', fill_alpha = .5, hover_fill_alpha = 1.0,\n",
    "              marker = 'circle',\n",
    "              legend_label = 'station',  \n",
    "              color = factor_cmap( 'station', 'Category10_5', source.to_df().station.unique() ),\n",
    "              hover_line_color = factor_cmap( 'station', 'Category10_5', source.to_df().station.unique() ),\n",
    "              hover_fill_color = factor_cmap( 'station', 'Category10_5', source.to_df().station.unique() ) )\n",
    "\n",
    "glyph_hover = HoverTool(renderers=[glyph],\n",
    "                         tooltips=[('Longitude','@lon E'), ('Latitude','@lat N'), ('Sation','@station'),\n",
    "                                  ('Month','@Month'), ('Hour','@Hour'), ('CO2','@co2'),\n",
    "                                  ('Sampling Height','@SamplingHeight')])\n",
    "p.add_tools(glyph_hover)\n",
    "\n",
    "p.title.align = 'center'\n",
    "p.legend.location = 'top_left'\n",
    "\n",
    "output_notebook()\n",
    "show(p)"
   ]
  },
  {
   "cell_type": "code",
   "execution_count": null,
   "metadata": {},
   "outputs": [],
   "source": [
    "answer = 'gAAAAABcBvoKW3LiJnuzl-rUkXnWXDyKdCa1TtA-6Zp5eHeGiSp42LcPzqyChSRfFel5HeESU-z8_OLoZp2MFw8VAOWoCNSkIacf758tpY_HOggr6j8rYC9e1pTfzus0HXEsdOBReP58YQ8eLw63dR-la2nC4TcRXezGAQ2IKOGav8WM11nMlkhNXPV126xh4jsBT0nRxmNUaQejldIJC_q4WPDsWuQAHl3b5e-sraepPnmkONRTq4VqlSrFpd62CBsmCo8KbOuCRXMjBHv_xCmt34htey7DQ65WnNauZqOMLpPze_6d58jjA3hzFth9oqEspzsP5J_VrK55vqdB8LZM1dnu7g97QEVWWe2XsKVpXEa2TXPUqACN4AKlhfSy-zfS78v5qWzgFZLscMHa2ifgFZGgPXoWVRhcxLq5AL644559F8g1jCAGnXNaYmMXoUZ6xZCdMFliYiFuL7V8dhEtaHawX441rIEtoIb2XS0ZK0lPTav5eIHhceQLuTm4lCmppAXvkLkrJnkBzlom3bYPZb00whL4nyMN39c5el4TNo5Sf-v-3GZl4uSWubhh5pPE3opFA8NC444CBvU9VBn2ZklTyeziByeKhdCOYHlKXECXWKRqAEK0ScBuZOTFNm83Kj18XcXmEt5-v2vjMGfM-rVSAcPyBNU3gOKhnFYNbtNgwL69F3ehIBQlkH5rGkgvilbmlgcJx0hPS3aVyFybxN9xGUlFcSs8DmDdGF5hxAs4vZWNgy_PjAXNeW-hdMUGY3wIU3JPC96DNIBTyMQV_BtzGVgpNm4kJ8M7ljNq563pVnf0q3vXwPSYnFUS6-aL0GarW47U2MQzCg8VerMKMR5-WTfNcz0euna78dg7hb_ZqeJgmESiL0gqFQdHNMriGMNJeLfd-sMlgI1WBLV9TSeFqbbOoar0IjzzzmoRmla8WFrSULbK0zMGz_DdiQOLQCWoEBRVDkwcVPmobdYaS4xy2DE2w_rBQOkCM68k-sNqg04_hZ652Pq7KnOAG1BwL3D4Pz73ZaE-uDL1vbnr6auI7dsxcPgJX3_b0pIqIjwcPwd0iaoU2SdEVU2OpGBnY6KsSl5MrwX7P-dYVhWwJ4FfYP59l7HfTJrw7t03jkA399adGWF70wA7v-2bHHzCTf66wgCnFmQtLL8ukmrkImiAzCMA3af47hq8GPKbFK74UsnwyjabLv26N0WZcuc2P3Tib-qMtc0ebuHTXWFtmio0RSDCjKVOehakMwoeIKfIAWZAoYfAg5NFQWa8Xw8ybsHvwCrDwt4j7qb-hdoyIQ2cMEFfXXx4ZcL-GRJy6jlwyP0C90JjvWv8ono8ffdhuuSD_ylCHCt0c58UxibJXUkvHzgA40rlWRH7Pmh6iw1zeG5lkxkHZFt6AaKpxNhtu0WDsHLUxqMoa1PrjJjjP1VwjVRKpeaIWMui9j-Wg3gQB0Bt9b7iqvgPW8R5OLAXOm_84E8ozBFn1DWdJaMyutqgh3SsHiL_bOlWeJfm9-G_YeVaXgjsj4sSAf01VzBxIe_bdgY44OUiobZ5aoF0O4Ya7AVMhXPeJHi8f4GVeacI7KJAiGFH3Vmm_X-cgM8axMPthxtC7vBYgw_a4TOikWYewPh5uU9f4mjs4rKS9xC0H8tjp5ICrDhdYFWqviVnnuunSWR9bmbRKYVIsmIJHYZLZpci6bOz8jKVyxjp4YgD9-3IYe5EPy_6uF9XbNZesyeJkeY_q5P1qt2iigQFi8hD88lt4nvFjV5yXdGwfeyLIm0YaS_SE9mAu2NnQgejRKrcsmahQAvYUy64DD38ktJevblcNRy90xMd6GXHr69ZPVz65QsZAroqHy_GXjjQhJpRS-aajoL6LcolcFvrvzq46Hv_JIscJscnPHkqwWbKgS1QLD4HdUC_VVK_9GmfbjgI8Y05hOEPF2c_0Nhm1-F3dkTBrIXLgHnd88FHHU9feobDBNerd9_sqQctTE7d2FHxrcvNZRVlhHZiFyFuer1cz29keRSJm0Gp035WFhieYECzaM-_7NMbRkUdwAf3yxzUjNy1WKyehC-ZawcXwsyTOVvMugfHZ4olSImjGvVKsd7Ho5oTip2fZEv9ic2GdGFxnzP3bhpBhp4fLj8QeDEKYkeGNmDumo-yPJo_NVr30-rNUdeNDIQtOKB8rvv-HKFsz8t_nvctKEMOpe4Iq0nI1QadWCQtkyUAG7kIfsby6jtgANtyLjddZ5HZAvpbpros4jr3fanKxr4Qzr8kDzOw09oid1it8SetOWnBM9YzEbHf2-Rm1ZFhkAfjaf0_wSGBeMXinAr66Gk11pTmCOHqOFzSZRcE6-bGkSBJXe4gf17EY9Ot8S2CjDNqSO9s1eDSh5Xrw_SbPq9OCYDk58CY1RihwEr6O6u_tdpB-i-PEaPUc1te-Sk9dOSLrRE97K-AHjjW1Zxb8lEL4k2d9-NQUUg0jACC7eYACWOgoUwnoq3QrYR-lbhoM0EZSLIEjuP5fhPQWMpVUQ3iaXTtl-j1cfXjDT8_bPqE4oD2IdO_MIaiAV0NsBjM9s5MR_w2ssJ9vexRnaQ92k7pL4OTjMQ4Cgu0IriH7roFIil1UQAaH-gZFWnpKYJrD6zIAQrdgZ_Cb2LNSwgcybA7SFfzFbAOitp5foBGlHr1UtGdlN30SmKQ105mLeBHE3zFdqP4SazKCL1Gyo6XNGyS_n_Qj-yYl66GLdegIBNtQMY6apVCpAHoSCzAXzEHw2ARW3LIZMjjeJn5UFlmAyuW7elMGV-rKSdxlszOXAryXBgl3GIbiYXAnZ_LL04EqXydNaDdtNL4r6_cQnMw3ykTLC6HW997onodrnWuVRswO6KR_0kJ97KUwPULxs1Q8ANcMoV4MsLqDsDPJBi1txw0PJKfzONAun4Wbbj5w-NDn3yckR7cakFieDcWqblAMdAoyFw-Cx7JZyuqWXaQQh6PzD3k2FOIQoH8qUegVabq7iW1bZt_xgv6HxGixf_u_RvQ3ViL8nsL_SiPGBTqC_sjVKlXkO9JJZd3DBOWgt-tG7ft99QacBpfz3n6L6j7c759G7uIspqCRD2PvpXcykk9MRPMzBPe7uzFkir4z6I61wnwFaxurKo6Sps_DHGAQZuYC3PemsWh9yNjVruTV0ZNTwlG-PgEbGNfI_eiIt7K0Mw6BjCY7co5SyPPP6KSU64dLPjjaO--0F1Uc-7mzdjy5PyfalG4FnPymXnhLg6_vHjtLgtw1Vh_jL2Bwda6hc_Z-zU2ZXvsAe1dkvgEdhJ5W0MSzHPi3qo8YLgpVw5UAwTWqzI-INJpMqh7CZOkNP31qLI7x1gpV2hWGM-UzW3FGuJdKMPpwEE5ppDlbXgM3zscGiNYTqVlpl58MKoh7OCFFGhxM1aaX4tLIEonRCEH-UapKpqU-mArBIFM0AHy5zLeHHal72jBpQC4OlTf4F8cY_sFCf52SjcayIAR4wlvI6yQKDOSTWS1nEl5JrAuWzR4RIBVtuT_ohT_Gw-8i1CzocFLi2e_CWoHWBvrkAcOI9RiyiidmhyaJrQdfmSdpEFC-Kv5tlTuKxypxP5Rwi4vCh-rvYAOpu_mucOhzKEshoTXunlfarmsJiFk5neSEuZ20LmsVi_Nt7S9HNwgM5RA-k5xxxm-sLzMLCFWwAuHU9vZjhH5s44So3xyGhssI9uyGCJC4QA0M41ihZUOmcQKeEighxgXvVmY'"
   ]
  },
  {
   "cell_type": "code",
   "execution_count": null,
   "metadata": {},
   "outputs": [],
   "source": [
    "decrypt(answer,)"
   ]
  }
 ],
 "metadata": {
  "kernelspec": {
   "display_name": "Python 3 (ipykernel)",
   "language": "python",
   "name": "python3"
  },
  "language_info": {
   "codemirror_mode": {
    "name": "ipython",
    "version": 3
   },
   "file_extension": ".py",
   "mimetype": "text/x-python",
   "name": "python",
   "nbconvert_exporter": "python",
   "pygments_lexer": "ipython3",
   "version": "3.11.0"
  }
 },
 "nbformat": 4,
 "nbformat_minor": 2
}
